{
  "cells": [
    {
      "cell_type": "markdown",
      "metadata": {
        "id": "view-in-github",
        "colab_type": "text"
      },
      "source": [
        "<a href=\"https://colab.research.google.com/github/julianrvp/Coderhouse_DS_Reyes/blob/main/Proyecto_final_Juli%C3%A1n_Reyes.ipynb\" target=\"_parent\"><img src=\"https://colab.research.google.com/assets/colab-badge.svg\" alt=\"Open In Colab\"/></a>"
      ]
    },
    {
      "cell_type": "markdown",
      "metadata": {
        "id": "uHarKJTpoXEg"
      },
      "source": [
        "# **Entrega final**\n",
        "## Julián Reyes Varela\n",
        "### Data Science I: Fundamentos para la Ciencia de Datos. CODERHOUSE.\n",
        "\n",
        "Mayo de 2024"
      ]
    },
    {
      "cell_type": "markdown",
      "metadata": {
        "id": "rKqvyoz8o0Ej"
      },
      "source": [
        "## 1) Abstract"
      ]
    },
    {
      "cell_type": "markdown",
      "metadata": {
        "id": "dBhliW6cotns"
      },
      "source": [
        "Como trabajo final del curso *Data Science 1: Fundamentos para la Ciencia de Datos* se abordará el dataset Titanic, buscando predecir la supervivencia o no de los pasajeros a partir de un conjunto de variables explicativas.\n",
        "\n",
        "Como es ampliamente conocido, el Titanic fue un transatlántico británico que se hundió en su viaje inaugural en 1912 al chocar con un iceberg, provocando una de las mayores tragedias marítimas de la historia, con más de 1,500 personas fallecidas."
      ]
    },
    {
      "cell_type": "markdown",
      "metadata": {
        "id": "KbteZAsIo79p"
      },
      "source": [
        "## 2) Preparación del cuaderno y del dataset"
      ]
    },
    {
      "cell_type": "code",
      "execution_count": 2,
      "metadata": {
        "id": "cPSHWoJbpEgP"
      },
      "outputs": [],
      "source": [
        "import pandas as pd\n",
        "import matplotlib as mpl\n",
        "import matplotlib.pyplot as plt\n",
        "import seaborn as sns"
      ]
    },
    {
      "cell_type": "code",
      "execution_count": 3,
      "metadata": {
        "colab": {
          "base_uri": "https://localhost:8080/"
        },
        "id": "HwqMhgLcpGgw",
        "outputId": "b94eb3fc-92c3-41e8-df2c-ecd88dfacfeb"
      },
      "outputs": [
        {
          "output_type": "stream",
          "name": "stdout",
          "text": [
            "Mounted at /content/gdrive\n",
            "/content/gdrive/MyDrive\n"
          ]
        }
      ],
      "source": [
        "from google.colab import drive\n",
        "import os\n",
        "drive.mount('/content/gdrive')\n",
        "%cd '/content/gdrive/MyDrive/'"
      ]
    },
    {
      "cell_type": "markdown",
      "metadata": {
        "id": "Oc0XtrzZDFeO"
      },
      "source": [
        "Debido a dificultades con un dataset explorado anteriormente, para esta oportunidad se selecciconó el dataset \"Titanic\", incluido en la librería Seaborn de Python.\n",
        "\n",
        "Se trata de una colección de datos que contiene información sobre los pasajeros del transatlántico, incluyendo detalles como la edad, el sexo, la clase de pasaje y si sobrevivieron o no al naufragio. Es utilizado ampliamente en análisis de datos y aprendizaje automático para realizar predicciones basadas en diferentes variables."
      ]
    },
    {
      "cell_type": "code",
      "execution_count": 48,
      "metadata": {
        "id": "OBdPzzwgpktH"
      },
      "outputs": [],
      "source": [
        "df=sns.load_dataset(\"titanic\")"
      ]
    },
    {
      "cell_type": "markdown",
      "source": [
        "El deataset contiene 15 columnas o variables, y 891 filas.\n",
        "\n",
        "\"survived\" y \"alive\" indican si el pasajero sobrevivió o no;\n",
        "\n",
        "\"class\" y \"pclass\" refieren a la clase (primera, segunda o tercera) del viaje;\n",
        "\n",
        "\"fare\" consiste en el costo del pasaje;\n",
        "\n",
        "\"sex\" y \"age\" dicen el sexo y la edad del pasajero;\n",
        "\n",
        "\"who\" indica si se trata de hombre, mujer o niño, y \"adult_male\" indica si se trata o no de un hombre adulto\n",
        "\n",
        "\"embarked\" y \"embark_town\" refieren al lugar de embarque del transatlántico\n",
        "\"alone\" da cuenta de si el pasajero viajaba solo o no;\n",
        "\n",
        "\"sibsp\" indica el número de hermanos y/o cónyuges que el pasajero tenía a bordo, y \"parch\" indica el número de padres e hijos que el pasajero tenía a bordo;\n",
        "\n",
        "\"deck\", por último, refiere a la ubicación del pasajero en el barco.\n",
        "\n",
        "\n",
        "\n"
      ],
      "metadata": {
        "id": "3VjsRPgquXwC"
      }
    },
    {
      "cell_type": "code",
      "source": [
        "df.head()"
      ],
      "metadata": {
        "colab": {
          "base_uri": "https://localhost:8080/",
          "height": 206
        },
        "id": "xxh_DmRJ2gPq",
        "outputId": "16eff3b3-dae3-4e1b-e03f-f6a7f795b92a"
      },
      "execution_count": 49,
      "outputs": [
        {
          "output_type": "execute_result",
          "data": {
            "text/plain": [
              "   survived  pclass     sex   age  sibsp  parch     fare embarked  class  \\\n",
              "0         0       3    male  22.0      1      0   7.2500        S  Third   \n",
              "1         1       1  female  38.0      1      0  71.2833        C  First   \n",
              "2         1       3  female  26.0      0      0   7.9250        S  Third   \n",
              "3         1       1  female  35.0      1      0  53.1000        S  First   \n",
              "4         0       3    male  35.0      0      0   8.0500        S  Third   \n",
              "\n",
              "     who  adult_male deck  embark_town alive  alone  \n",
              "0    man        True  NaN  Southampton    no  False  \n",
              "1  woman       False    C    Cherbourg   yes  False  \n",
              "2  woman       False  NaN  Southampton   yes   True  \n",
              "3  woman       False    C  Southampton   yes  False  \n",
              "4    man        True  NaN  Southampton    no   True  "
            ],
            "text/html": [
              "\n",
              "  <div id=\"df-36d70fb6-7f51-47e6-a575-72a645d940ae\" class=\"colab-df-container\">\n",
              "    <div>\n",
              "<style scoped>\n",
              "    .dataframe tbody tr th:only-of-type {\n",
              "        vertical-align: middle;\n",
              "    }\n",
              "\n",
              "    .dataframe tbody tr th {\n",
              "        vertical-align: top;\n",
              "    }\n",
              "\n",
              "    .dataframe thead th {\n",
              "        text-align: right;\n",
              "    }\n",
              "</style>\n",
              "<table border=\"1\" class=\"dataframe\">\n",
              "  <thead>\n",
              "    <tr style=\"text-align: right;\">\n",
              "      <th></th>\n",
              "      <th>survived</th>\n",
              "      <th>pclass</th>\n",
              "      <th>sex</th>\n",
              "      <th>age</th>\n",
              "      <th>sibsp</th>\n",
              "      <th>parch</th>\n",
              "      <th>fare</th>\n",
              "      <th>embarked</th>\n",
              "      <th>class</th>\n",
              "      <th>who</th>\n",
              "      <th>adult_male</th>\n",
              "      <th>deck</th>\n",
              "      <th>embark_town</th>\n",
              "      <th>alive</th>\n",
              "      <th>alone</th>\n",
              "    </tr>\n",
              "  </thead>\n",
              "  <tbody>\n",
              "    <tr>\n",
              "      <th>0</th>\n",
              "      <td>0</td>\n",
              "      <td>3</td>\n",
              "      <td>male</td>\n",
              "      <td>22.0</td>\n",
              "      <td>1</td>\n",
              "      <td>0</td>\n",
              "      <td>7.2500</td>\n",
              "      <td>S</td>\n",
              "      <td>Third</td>\n",
              "      <td>man</td>\n",
              "      <td>True</td>\n",
              "      <td>NaN</td>\n",
              "      <td>Southampton</td>\n",
              "      <td>no</td>\n",
              "      <td>False</td>\n",
              "    </tr>\n",
              "    <tr>\n",
              "      <th>1</th>\n",
              "      <td>1</td>\n",
              "      <td>1</td>\n",
              "      <td>female</td>\n",
              "      <td>38.0</td>\n",
              "      <td>1</td>\n",
              "      <td>0</td>\n",
              "      <td>71.2833</td>\n",
              "      <td>C</td>\n",
              "      <td>First</td>\n",
              "      <td>woman</td>\n",
              "      <td>False</td>\n",
              "      <td>C</td>\n",
              "      <td>Cherbourg</td>\n",
              "      <td>yes</td>\n",
              "      <td>False</td>\n",
              "    </tr>\n",
              "    <tr>\n",
              "      <th>2</th>\n",
              "      <td>1</td>\n",
              "      <td>3</td>\n",
              "      <td>female</td>\n",
              "      <td>26.0</td>\n",
              "      <td>0</td>\n",
              "      <td>0</td>\n",
              "      <td>7.9250</td>\n",
              "      <td>S</td>\n",
              "      <td>Third</td>\n",
              "      <td>woman</td>\n",
              "      <td>False</td>\n",
              "      <td>NaN</td>\n",
              "      <td>Southampton</td>\n",
              "      <td>yes</td>\n",
              "      <td>True</td>\n",
              "    </tr>\n",
              "    <tr>\n",
              "      <th>3</th>\n",
              "      <td>1</td>\n",
              "      <td>1</td>\n",
              "      <td>female</td>\n",
              "      <td>35.0</td>\n",
              "      <td>1</td>\n",
              "      <td>0</td>\n",
              "      <td>53.1000</td>\n",
              "      <td>S</td>\n",
              "      <td>First</td>\n",
              "      <td>woman</td>\n",
              "      <td>False</td>\n",
              "      <td>C</td>\n",
              "      <td>Southampton</td>\n",
              "      <td>yes</td>\n",
              "      <td>False</td>\n",
              "    </tr>\n",
              "    <tr>\n",
              "      <th>4</th>\n",
              "      <td>0</td>\n",
              "      <td>3</td>\n",
              "      <td>male</td>\n",
              "      <td>35.0</td>\n",
              "      <td>0</td>\n",
              "      <td>0</td>\n",
              "      <td>8.0500</td>\n",
              "      <td>S</td>\n",
              "      <td>Third</td>\n",
              "      <td>man</td>\n",
              "      <td>True</td>\n",
              "      <td>NaN</td>\n",
              "      <td>Southampton</td>\n",
              "      <td>no</td>\n",
              "      <td>True</td>\n",
              "    </tr>\n",
              "  </tbody>\n",
              "</table>\n",
              "</div>\n",
              "    <div class=\"colab-df-buttons\">\n",
              "\n",
              "  <div class=\"colab-df-container\">\n",
              "    <button class=\"colab-df-convert\" onclick=\"convertToInteractive('df-36d70fb6-7f51-47e6-a575-72a645d940ae')\"\n",
              "            title=\"Convert this dataframe to an interactive table.\"\n",
              "            style=\"display:none;\">\n",
              "\n",
              "  <svg xmlns=\"http://www.w3.org/2000/svg\" height=\"24px\" viewBox=\"0 -960 960 960\">\n",
              "    <path d=\"M120-120v-720h720v720H120Zm60-500h600v-160H180v160Zm220 220h160v-160H400v160Zm0 220h160v-160H400v160ZM180-400h160v-160H180v160Zm440 0h160v-160H620v160ZM180-180h160v-160H180v160Zm440 0h160v-160H620v160Z\"/>\n",
              "  </svg>\n",
              "    </button>\n",
              "\n",
              "  <style>\n",
              "    .colab-df-container {\n",
              "      display:flex;\n",
              "      gap: 12px;\n",
              "    }\n",
              "\n",
              "    .colab-df-convert {\n",
              "      background-color: #E8F0FE;\n",
              "      border: none;\n",
              "      border-radius: 50%;\n",
              "      cursor: pointer;\n",
              "      display: none;\n",
              "      fill: #1967D2;\n",
              "      height: 32px;\n",
              "      padding: 0 0 0 0;\n",
              "      width: 32px;\n",
              "    }\n",
              "\n",
              "    .colab-df-convert:hover {\n",
              "      background-color: #E2EBFA;\n",
              "      box-shadow: 0px 1px 2px rgba(60, 64, 67, 0.3), 0px 1px 3px 1px rgba(60, 64, 67, 0.15);\n",
              "      fill: #174EA6;\n",
              "    }\n",
              "\n",
              "    .colab-df-buttons div {\n",
              "      margin-bottom: 4px;\n",
              "    }\n",
              "\n",
              "    [theme=dark] .colab-df-convert {\n",
              "      background-color: #3B4455;\n",
              "      fill: #D2E3FC;\n",
              "    }\n",
              "\n",
              "    [theme=dark] .colab-df-convert:hover {\n",
              "      background-color: #434B5C;\n",
              "      box-shadow: 0px 1px 3px 1px rgba(0, 0, 0, 0.15);\n",
              "      filter: drop-shadow(0px 1px 2px rgba(0, 0, 0, 0.3));\n",
              "      fill: #FFFFFF;\n",
              "    }\n",
              "  </style>\n",
              "\n",
              "    <script>\n",
              "      const buttonEl =\n",
              "        document.querySelector('#df-36d70fb6-7f51-47e6-a575-72a645d940ae button.colab-df-convert');\n",
              "      buttonEl.style.display =\n",
              "        google.colab.kernel.accessAllowed ? 'block' : 'none';\n",
              "\n",
              "      async function convertToInteractive(key) {\n",
              "        const element = document.querySelector('#df-36d70fb6-7f51-47e6-a575-72a645d940ae');\n",
              "        const dataTable =\n",
              "          await google.colab.kernel.invokeFunction('convertToInteractive',\n",
              "                                                    [key], {});\n",
              "        if (!dataTable) return;\n",
              "\n",
              "        const docLinkHtml = 'Like what you see? Visit the ' +\n",
              "          '<a target=\"_blank\" href=https://colab.research.google.com/notebooks/data_table.ipynb>data table notebook</a>'\n",
              "          + ' to learn more about interactive tables.';\n",
              "        element.innerHTML = '';\n",
              "        dataTable['output_type'] = 'display_data';\n",
              "        await google.colab.output.renderOutput(dataTable, element);\n",
              "        const docLink = document.createElement('div');\n",
              "        docLink.innerHTML = docLinkHtml;\n",
              "        element.appendChild(docLink);\n",
              "      }\n",
              "    </script>\n",
              "  </div>\n",
              "\n",
              "\n",
              "<div id=\"df-215fb945-d37d-40db-b771-ab693cea5e87\">\n",
              "  <button class=\"colab-df-quickchart\" onclick=\"quickchart('df-215fb945-d37d-40db-b771-ab693cea5e87')\"\n",
              "            title=\"Suggest charts\"\n",
              "            style=\"display:none;\">\n",
              "\n",
              "<svg xmlns=\"http://www.w3.org/2000/svg\" height=\"24px\"viewBox=\"0 0 24 24\"\n",
              "     width=\"24px\">\n",
              "    <g>\n",
              "        <path d=\"M19 3H5c-1.1 0-2 .9-2 2v14c0 1.1.9 2 2 2h14c1.1 0 2-.9 2-2V5c0-1.1-.9-2-2-2zM9 17H7v-7h2v7zm4 0h-2V7h2v10zm4 0h-2v-4h2v4z\"/>\n",
              "    </g>\n",
              "</svg>\n",
              "  </button>\n",
              "\n",
              "<style>\n",
              "  .colab-df-quickchart {\n",
              "      --bg-color: #E8F0FE;\n",
              "      --fill-color: #1967D2;\n",
              "      --hover-bg-color: #E2EBFA;\n",
              "      --hover-fill-color: #174EA6;\n",
              "      --disabled-fill-color: #AAA;\n",
              "      --disabled-bg-color: #DDD;\n",
              "  }\n",
              "\n",
              "  [theme=dark] .colab-df-quickchart {\n",
              "      --bg-color: #3B4455;\n",
              "      --fill-color: #D2E3FC;\n",
              "      --hover-bg-color: #434B5C;\n",
              "      --hover-fill-color: #FFFFFF;\n",
              "      --disabled-bg-color: #3B4455;\n",
              "      --disabled-fill-color: #666;\n",
              "  }\n",
              "\n",
              "  .colab-df-quickchart {\n",
              "    background-color: var(--bg-color);\n",
              "    border: none;\n",
              "    border-radius: 50%;\n",
              "    cursor: pointer;\n",
              "    display: none;\n",
              "    fill: var(--fill-color);\n",
              "    height: 32px;\n",
              "    padding: 0;\n",
              "    width: 32px;\n",
              "  }\n",
              "\n",
              "  .colab-df-quickchart:hover {\n",
              "    background-color: var(--hover-bg-color);\n",
              "    box-shadow: 0 1px 2px rgba(60, 64, 67, 0.3), 0 1px 3px 1px rgba(60, 64, 67, 0.15);\n",
              "    fill: var(--button-hover-fill-color);\n",
              "  }\n",
              "\n",
              "  .colab-df-quickchart-complete:disabled,\n",
              "  .colab-df-quickchart-complete:disabled:hover {\n",
              "    background-color: var(--disabled-bg-color);\n",
              "    fill: var(--disabled-fill-color);\n",
              "    box-shadow: none;\n",
              "  }\n",
              "\n",
              "  .colab-df-spinner {\n",
              "    border: 2px solid var(--fill-color);\n",
              "    border-color: transparent;\n",
              "    border-bottom-color: var(--fill-color);\n",
              "    animation:\n",
              "      spin 1s steps(1) infinite;\n",
              "  }\n",
              "\n",
              "  @keyframes spin {\n",
              "    0% {\n",
              "      border-color: transparent;\n",
              "      border-bottom-color: var(--fill-color);\n",
              "      border-left-color: var(--fill-color);\n",
              "    }\n",
              "    20% {\n",
              "      border-color: transparent;\n",
              "      border-left-color: var(--fill-color);\n",
              "      border-top-color: var(--fill-color);\n",
              "    }\n",
              "    30% {\n",
              "      border-color: transparent;\n",
              "      border-left-color: var(--fill-color);\n",
              "      border-top-color: var(--fill-color);\n",
              "      border-right-color: var(--fill-color);\n",
              "    }\n",
              "    40% {\n",
              "      border-color: transparent;\n",
              "      border-right-color: var(--fill-color);\n",
              "      border-top-color: var(--fill-color);\n",
              "    }\n",
              "    60% {\n",
              "      border-color: transparent;\n",
              "      border-right-color: var(--fill-color);\n",
              "    }\n",
              "    80% {\n",
              "      border-color: transparent;\n",
              "      border-right-color: var(--fill-color);\n",
              "      border-bottom-color: var(--fill-color);\n",
              "    }\n",
              "    90% {\n",
              "      border-color: transparent;\n",
              "      border-bottom-color: var(--fill-color);\n",
              "    }\n",
              "  }\n",
              "</style>\n",
              "\n",
              "  <script>\n",
              "    async function quickchart(key) {\n",
              "      const quickchartButtonEl =\n",
              "        document.querySelector('#' + key + ' button');\n",
              "      quickchartButtonEl.disabled = true;  // To prevent multiple clicks.\n",
              "      quickchartButtonEl.classList.add('colab-df-spinner');\n",
              "      try {\n",
              "        const charts = await google.colab.kernel.invokeFunction(\n",
              "            'suggestCharts', [key], {});\n",
              "      } catch (error) {\n",
              "        console.error('Error during call to suggestCharts:', error);\n",
              "      }\n",
              "      quickchartButtonEl.classList.remove('colab-df-spinner');\n",
              "      quickchartButtonEl.classList.add('colab-df-quickchart-complete');\n",
              "    }\n",
              "    (() => {\n",
              "      let quickchartButtonEl =\n",
              "        document.querySelector('#df-215fb945-d37d-40db-b771-ab693cea5e87 button');\n",
              "      quickchartButtonEl.style.display =\n",
              "        google.colab.kernel.accessAllowed ? 'block' : 'none';\n",
              "    })();\n",
              "  </script>\n",
              "</div>\n",
              "\n",
              "    </div>\n",
              "  </div>\n"
            ],
            "application/vnd.google.colaboratory.intrinsic+json": {
              "type": "dataframe",
              "variable_name": "df",
              "summary": "{\n  \"name\": \"df\",\n  \"rows\": 891,\n  \"fields\": [\n    {\n      \"column\": \"survived\",\n      \"properties\": {\n        \"dtype\": \"number\",\n        \"std\": 0,\n        \"min\": 0,\n        \"max\": 1,\n        \"num_unique_values\": 2,\n        \"samples\": [\n          1,\n          0\n        ],\n        \"semantic_type\": \"\",\n        \"description\": \"\"\n      }\n    },\n    {\n      \"column\": \"pclass\",\n      \"properties\": {\n        \"dtype\": \"number\",\n        \"std\": 0,\n        \"min\": 1,\n        \"max\": 3,\n        \"num_unique_values\": 3,\n        \"samples\": [\n          3,\n          1\n        ],\n        \"semantic_type\": \"\",\n        \"description\": \"\"\n      }\n    },\n    {\n      \"column\": \"sex\",\n      \"properties\": {\n        \"dtype\": \"category\",\n        \"num_unique_values\": 2,\n        \"samples\": [\n          \"female\",\n          \"male\"\n        ],\n        \"semantic_type\": \"\",\n        \"description\": \"\"\n      }\n    },\n    {\n      \"column\": \"age\",\n      \"properties\": {\n        \"dtype\": \"number\",\n        \"std\": 14.526497332334042,\n        \"min\": 0.42,\n        \"max\": 80.0,\n        \"num_unique_values\": 88,\n        \"samples\": [\n          0.75,\n          22.0\n        ],\n        \"semantic_type\": \"\",\n        \"description\": \"\"\n      }\n    },\n    {\n      \"column\": \"sibsp\",\n      \"properties\": {\n        \"dtype\": \"number\",\n        \"std\": 1,\n        \"min\": 0,\n        \"max\": 8,\n        \"num_unique_values\": 7,\n        \"samples\": [\n          1,\n          0\n        ],\n        \"semantic_type\": \"\",\n        \"description\": \"\"\n      }\n    },\n    {\n      \"column\": \"parch\",\n      \"properties\": {\n        \"dtype\": \"number\",\n        \"std\": 0,\n        \"min\": 0,\n        \"max\": 6,\n        \"num_unique_values\": 7,\n        \"samples\": [\n          0,\n          1\n        ],\n        \"semantic_type\": \"\",\n        \"description\": \"\"\n      }\n    },\n    {\n      \"column\": \"fare\",\n      \"properties\": {\n        \"dtype\": \"number\",\n        \"std\": 49.6934285971809,\n        \"min\": 0.0,\n        \"max\": 512.3292,\n        \"num_unique_values\": 248,\n        \"samples\": [\n          11.2417,\n          51.8625\n        ],\n        \"semantic_type\": \"\",\n        \"description\": \"\"\n      }\n    },\n    {\n      \"column\": \"embarked\",\n      \"properties\": {\n        \"dtype\": \"category\",\n        \"num_unique_values\": 3,\n        \"samples\": [\n          \"S\",\n          \"C\"\n        ],\n        \"semantic_type\": \"\",\n        \"description\": \"\"\n      }\n    },\n    {\n      \"column\": \"class\",\n      \"properties\": {\n        \"dtype\": \"category\",\n        \"num_unique_values\": 3,\n        \"samples\": [\n          \"Third\",\n          \"First\"\n        ],\n        \"semantic_type\": \"\",\n        \"description\": \"\"\n      }\n    },\n    {\n      \"column\": \"who\",\n      \"properties\": {\n        \"dtype\": \"category\",\n        \"num_unique_values\": 3,\n        \"samples\": [\n          \"man\",\n          \"woman\"\n        ],\n        \"semantic_type\": \"\",\n        \"description\": \"\"\n      }\n    },\n    {\n      \"column\": \"adult_male\",\n      \"properties\": {\n        \"dtype\": \"boolean\",\n        \"num_unique_values\": 2,\n        \"samples\": [\n          false,\n          true\n        ],\n        \"semantic_type\": \"\",\n        \"description\": \"\"\n      }\n    },\n    {\n      \"column\": \"deck\",\n      \"properties\": {\n        \"dtype\": \"category\",\n        \"num_unique_values\": 7,\n        \"samples\": [\n          \"C\",\n          \"E\"\n        ],\n        \"semantic_type\": \"\",\n        \"description\": \"\"\n      }\n    },\n    {\n      \"column\": \"embark_town\",\n      \"properties\": {\n        \"dtype\": \"category\",\n        \"num_unique_values\": 3,\n        \"samples\": [\n          \"Southampton\",\n          \"Cherbourg\"\n        ],\n        \"semantic_type\": \"\",\n        \"description\": \"\"\n      }\n    },\n    {\n      \"column\": \"alive\",\n      \"properties\": {\n        \"dtype\": \"category\",\n        \"num_unique_values\": 2,\n        \"samples\": [\n          \"yes\",\n          \"no\"\n        ],\n        \"semantic_type\": \"\",\n        \"description\": \"\"\n      }\n    },\n    {\n      \"column\": \"alone\",\n      \"properties\": {\n        \"dtype\": \"boolean\",\n        \"num_unique_values\": 2,\n        \"samples\": [\n          true,\n          false\n        ],\n        \"semantic_type\": \"\",\n        \"description\": \"\"\n      }\n    }\n  ]\n}"
            }
          },
          "metadata": {},
          "execution_count": 49
        }
      ]
    },
    {
      "cell_type": "markdown",
      "source": [
        "A continuación, se analiza la cantidad de NA en la base."
      ],
      "metadata": {
        "id": "IKVi9xRHwwW0"
      }
    },
    {
      "cell_type": "code",
      "execution_count": 6,
      "metadata": {
        "colab": {
          "base_uri": "https://localhost:8080/"
        },
        "id": "YcgVtYDXqDYf",
        "outputId": "441523a2-4d15-4d1a-a47f-fb738bfa6388"
      },
      "outputs": [
        {
          "output_type": "execute_result",
          "data": {
            "text/plain": [
              "survived         0\n",
              "pclass           0\n",
              "sex              0\n",
              "age            177\n",
              "sibsp            0\n",
              "parch            0\n",
              "fare             0\n",
              "embarked         2\n",
              "class            0\n",
              "who              0\n",
              "adult_male       0\n",
              "deck           688\n",
              "embark_town      2\n",
              "alive            0\n",
              "alone            0\n",
              "dtype: int64"
            ]
          },
          "metadata": {},
          "execution_count": 6
        }
      ],
      "source": [
        "df.isna().sum()"
      ]
    },
    {
      "cell_type": "markdown",
      "metadata": {
        "id": "uMlyEFrEbyXS"
      },
      "source": [
        "Para que la ausencia de estos datos no dificulte el análisis, reemplazamos las edades por la mediana, eliminamos la variable \"deck\" y eliminamos de la base los dos casos sin valores para \"embark_town\" ni \"embarked\"."
      ]
    },
    {
      "cell_type": "code",
      "execution_count": 7,
      "metadata": {
        "id": "OGMW4rf3qxf5"
      },
      "outputs": [],
      "source": [
        "mediana_age = df['age'].median()\n",
        "df['age'].fillna(mediana_age, inplace=True)\n",
        "\n",
        "df.dropna(subset=['embark_town', 'embarked'], inplace=True)\n",
        "\n",
        "df.drop('deck', axis=1, inplace=True)"
      ]
    },
    {
      "cell_type": "code",
      "execution_count": 8,
      "metadata": {
        "colab": {
          "base_uri": "https://localhost:8080/"
        },
        "id": "9gtLsr8fdSPz",
        "outputId": "6f3b1539-ab21-4883-c381-c7c70634aa4d"
      },
      "outputs": [
        {
          "output_type": "execute_result",
          "data": {
            "text/plain": [
              "survived       0\n",
              "pclass         0\n",
              "sex            0\n",
              "age            0\n",
              "sibsp          0\n",
              "parch          0\n",
              "fare           0\n",
              "embarked       0\n",
              "class          0\n",
              "who            0\n",
              "adult_male     0\n",
              "embark_town    0\n",
              "alive          0\n",
              "alone          0\n",
              "dtype: int64"
            ]
          },
          "metadata": {},
          "execution_count": 8
        }
      ],
      "source": [
        "df.isna().sum()"
      ]
    },
    {
      "cell_type": "markdown",
      "source": [
        "La base quedó en condiciones para realizar el análisis exploratorio."
      ],
      "metadata": {
        "id": "bxLHLFDRxKF7"
      }
    },
    {
      "cell_type": "markdown",
      "metadata": {
        "id": "bso8HH3HFrfX"
      },
      "source": [
        "## 3) Análisis exploratorio"
      ]
    },
    {
      "cell_type": "markdown",
      "source": [
        "Para dar comienzo al análisis exploratorio de los datos de Titanic, visualizo sus principales variables para analizar su comportamiento.\n",
        "\n",
        "Partiendo del supuesto de que los niños y las mujeres tuvieron preferencia en la adjudicación de los botes, luego del naufragio, exploramos el comportamiento de las variables \"age\", \"sex\" y \"alive\", y las relaciones entre ellas."
      ],
      "metadata": {
        "id": "Ktuu06jG1vfo"
      }
    },
    {
      "cell_type": "code",
      "execution_count": 41,
      "metadata": {
        "colab": {
          "base_uri": "https://localhost:8080/",
          "height": 580
        },
        "id": "hi5R_ga7GQlF",
        "outputId": "a020cdd4-af2d-4527-d002-5ea24c170460"
      },
      "outputs": [
        {
          "output_type": "stream",
          "name": "stdout",
          "text": [
            "Descripción de 'alive': count     889\n",
            "unique      2\n",
            "top        no\n",
            "freq      549\n",
            "Name: alive, dtype: object \n",
            "\n"
          ]
        },
        {
          "output_type": "execute_result",
          "data": {
            "text/plain": [
              "<Axes: xlabel='alive', ylabel='Count'>"
            ]
          },
          "metadata": {},
          "execution_count": 41
        },
        {
          "output_type": "display_data",
          "data": {
            "text/plain": [
              "<Figure size 640x480 with 1 Axes>"
            ],
            "image/png": "[encoded data removed]"
          },
          "metadata": {}
        }
      ],
      "source": [
        "print(\"Descripción de 'alive':\", df[\"alive\"].describe(), \"\\n\")\n",
        "\n",
        "sns.histplot(data=df, x=\"alive\")"
      ]
    },
    {
      "cell_type": "markdown",
      "source": [
        "La variable \"alive\", que es la que queremos explicar, es dicotómica. La mayoría de los tripulantes no sobrevivieron (549 de 889), mientras que sí lo hicieron 340 personas.\n",
        "\n",
        "La edad (\"age\"), una de las variables que consideramos pertinente como predictora de la supervivencia, tiene a 29,3 años como media. Considerando que su mediana es de 28, podemos decir que tiene un comportamiento similar al de una distribución normal, si bien con frecuencias más concentradas hacia bajo y menos concentrada en los valores superiores, que llegan a los 80 años de edad en el valor máximo."
      ],
      "metadata": {
        "id": "h6-2lQ5cFiiX"
      }
    },
    {
      "source": [
        "print(\"Descripción de 'age':\", df[\"age\"].describe(), \"\\n\")\n",
        "sns.histplot(data=df, x=\"age\")"
      ],
      "cell_type": "code",
      "execution_count": 42,
      "outputs": [
        {
          "output_type": "stream",
          "name": "stdout",
          "text": [
            "Descripción de 'age': count    889.000000\n",
            "mean      29.315152\n",
            "std       12.984932\n",
            "min        0.420000\n",
            "25%       22.000000\n",
            "50%       28.000000\n",
            "75%       35.000000\n",
            "max       80.000000\n",
            "Name: age, dtype: float64 \n",
            "\n"
          ]
        },
        {
          "output_type": "execute_result",
          "data": {
            "text/plain": [
              "<Axes: xlabel='age', ylabel='Count'>"
            ]
          },
          "metadata": {},
          "execution_count": 42
        },
        {
          "output_type": "display_data",
          "data": {
            "text/plain": [
              "<Figure size 640x480 with 1 Axes>"
            ],
            "image/png": "[encoded data removed]"
          },
          "metadata": {}
        }
      ],
      "metadata": {
        "colab": {
          "base_uri": "https://localhost:8080/",
          "height": 649
        },
        "id": "WeATkRuh4F7N",
        "outputId": "39889284-cac8-4084-bced-5ddfd633eccc"
      }
    },
    {
      "cell_type": "markdown",
      "source": [
        "Por otro lado, la mayoría de pasajeros son varones, como puede visualizarse en el siguiente histograma."
      ],
      "metadata": {
        "id": "7ZJVQH0HGp-d"
      }
    },
    {
      "cell_type": "code",
      "execution_count": 43,
      "metadata": {
        "colab": {
          "base_uri": "https://localhost:8080/",
          "height": 581
        },
        "id": "iQ52VeQGHQcp",
        "outputId": "3148fec1-78c3-4311-89f7-ae0dee405219"
      },
      "outputs": [
        {
          "output_type": "stream",
          "name": "stdout",
          "text": [
            "Descripción de 'sex': count      889\n",
            "unique       2\n",
            "top       male\n",
            "freq       577\n",
            "Name: sex, dtype: object \n",
            "\n"
          ]
        },
        {
          "output_type": "execute_result",
          "data": {
            "text/plain": [
              "<Axes: xlabel='sex', ylabel='Count'>"
            ]
          },
          "metadata": {},
          "execution_count": 43
        },
        {
          "output_type": "display_data",
          "data": {
            "text/plain": [
              "<Figure size 640x480 with 1 Axes>"
            ],
            "image/png": "[encoded data removed]"
          },
          "metadata": {}
        }
      ],
      "source": [
        "print(\"Descripción de 'sex':\", df[\"sex\"].describe(), \"\\n\")\n",
        "sns.histplot(data=df, x=\"sex\")"
      ]
    },
    {
      "cell_type": "markdown",
      "source": [
        "Para continuar la exploración, visualizamos la relación de cada variable explicativa con la variable \"alive\"."
      ],
      "metadata": {
        "id": "7w_ekCKEG4hU"
      }
    },
    {
      "cell_type": "code",
      "execution_count": 44,
      "metadata": {
        "colab": {
          "base_uri": "https://localhost:8080/",
          "height": 518
        },
        "id": "IJ8btf-PH207",
        "outputId": "553cb873-0036-49a9-8e35-ade1df1785b2"
      },
      "outputs": [
        {
          "output_type": "execute_result",
          "data": {
            "text/plain": [
              "<seaborn.axisgrid.FacetGrid at 0x7a035b67b0a0>"
            ]
          },
          "metadata": {},
          "execution_count": 44
        },
        {
          "output_type": "display_data",
          "data": {
            "text/plain": [
              "<Figure size 581.5x500 with 1 Axes>"
            ],
            "image/png": "[encoded data removed]"
          },
          "metadata": {}
        }
      ],
      "source": [
        "sns.set(style=\"whitegrid\")\n",
        "sns.displot(data=df, x=\"sex\", hue=\"alive\", multiple = \"dodge\",palette = \"Set1\")"
      ]
    },
    {
      "cell_type": "markdown",
      "source": [
        "La relación entre \"sex\" y \"alive\" parece confirmarse al aseverar que, incluso siendo menos mujeres que hombres en el transatlántico, estas son mayoría entre quienes sobrevivieron."
      ],
      "metadata": {
        "id": "NX2HiEa1G_PD"
      }
    },
    {
      "cell_type": "code",
      "execution_count": 45,
      "metadata": {
        "colab": {
          "base_uri": "https://localhost:8080/",
          "height": 518
        },
        "id": "mZonxOckNoxG",
        "outputId": "4ec4fd5a-a5e6-4803-fb08-70de0be34549"
      },
      "outputs": [
        {
          "output_type": "execute_result",
          "data": {
            "text/plain": [
              "<seaborn.axisgrid.FacetGrid at 0x7a035bd5eb90>"
            ]
          },
          "metadata": {},
          "execution_count": 45
        },
        {
          "output_type": "display_data",
          "data": {
            "text/plain": [
              "<Figure size 581.5x500 with 1 Axes>"
            ],
            "image/png": "[encoded data removed]"
          },
          "metadata": {}
        }
      ],
      "source": [
        "sns.set(style=\"whitegrid\")\n",
        "sns.displot(data=df, x=\"age\", hue=\"alive\", multiple=\"dodge\",palette = \"Set1\")"
      ]
    },
    {
      "cell_type": "markdown",
      "source": [
        "Algo similar sucede con la edad; son en las edades de los adultos jóvenes en las que parecen mayores las distancias entre quienes sobrevivieron y quienes no lo hicieron, siendo más similares las longitudes de las barras en los extremos. Por otro lado, en el caso de las edades menores, aparece mayor proporción de sobrevivientes que de fallecidos.\n",
        "\n",
        "Para aseverar esto, hacemos un diagrama de caja con estas mismas variables:"
      ],
      "metadata": {
        "id": "-z5cosv75T9t"
      }
    },
    {
      "cell_type": "code",
      "execution_count": 46,
      "metadata": {
        "colab": {
          "base_uri": "https://localhost:8080/",
          "height": 475
        },
        "id": "qjlPU27nQczw",
        "outputId": "15be5f61-9519-47f2-8c7f-27ee33b11bb3"
      },
      "outputs": [
        {
          "output_type": "execute_result",
          "data": {
            "text/plain": [
              "<Axes: xlabel='age'>"
            ]
          },
          "metadata": {},
          "execution_count": 46
        },
        {
          "output_type": "display_data",
          "data": {
            "text/plain": [
              "<Figure size 640x480 with 1 Axes>"
            ],
            "image/png": "[encoded data removed]"
          },
          "metadata": {}
        }
      ],
      "source": [
        "sns.boxplot(data=df, x=\"age\", hue=\"alive\", palette = \"Set1\")"
      ]
    },
    {
      "cell_type": "markdown",
      "source": [
        "El diagrama de caja nos confirma una mayor concentración etaria (aunque sutil) en torno a los 30 años, en el caso de quienes no sobrevivieron. Los muy menores y muy mayores suponen outliers en la distribución de los fallecidos, mientras que en el caso de los sobrevivientes solo hay outliers en las edades más elevadas.\n",
        "\n",
        "Para visualizar el efecto conjunto de ambas variables, se presenta un scatterplot."
      ],
      "metadata": {
        "id": "_PbjHvJL6S9Q"
      }
    },
    {
      "cell_type": "code",
      "execution_count": 47,
      "metadata": {
        "colab": {
          "base_uri": "https://localhost:8080/",
          "height": 458
        },
        "id": "qKhPaQNHugnx",
        "outputId": "9922f53f-0aa2-47b8-e000-0641ba179d3e"
      },
      "outputs": [
        {
          "output_type": "display_data",
          "data": {
            "text/plain": [
              "<Figure size 640x480 with 1 Axes>"
            ],
            "image/png": "[encoded data removed]"
          },
          "metadata": {}
        }
      ],
      "source": [
        "sns.scatterplot(data=df, x='sex', y='age', hue='alive',palette = \"Set1\")\n",
        "plt.show()"
      ]
    },
    {
      "cell_type": "markdown",
      "source": [
        "La visualización va en linea con hipótesis anteriores. Los puntos de los varones son predominantemente rojos y los de las mujeres predominantemente azules.\n",
        "\n",
        "Es de notar que la distribuciones parecen menos homogeneas en las menores edades: en el caso de los varones aparecen varios puntos azules, aunque también sucede con lo inverso con los puntos rojos en el caso de las mujeres.\n",
        "\n",
        "También puede verse con claridad la ausencia de puntos azules, para los varones, entre las edades de 30 y 50 años."
      ],
      "metadata": {
        "id": "n2Um7ygR9mZ8"
      }
    },
    {
      "cell_type": "markdown",
      "metadata": {
        "id": "-Vv5_-6Uw6_N"
      },
      "source": [
        "## 4) Feature selection"
      ]
    },
    {
      "cell_type": "markdown",
      "metadata": {
        "id": "tPkUJ6xG73et"
      },
      "source": [
        "Para profundizar el análisis, recurrimos a técnicas de análisis estadístico más sofisticadas que las del análisis visual. En esta instancia, haremos una prueba de Random Forest, una técnica de feature selection para reconocer los componentes más importantes en la variación de nuestra variable de interés.\n",
        "\n",
        "Para ello, necesitamos en primer lugar modificar la base, en dos sentidos: no dejar variables muy relacionandas entre sí, y pasar a variables dicotómicas las que son categóricas."
      ]
    },
    {
      "cell_type": "code",
      "execution_count": 9,
      "metadata": {
        "colab": {
          "base_uri": "https://localhost:8080/"
        },
        "id": "rhfB2RMZ84Q6",
        "outputId": "b31923c5-f386-42ae-f4f9-9c50cb104b4f"
      },
      "outputs": [
        {
          "output_type": "stream",
          "name": "stdout",
          "text": [
            "survived          int64\n",
            "pclass            int64\n",
            "sex              object\n",
            "age             float64\n",
            "sibsp             int64\n",
            "parch             int64\n",
            "fare            float64\n",
            "embarked         object\n",
            "class          category\n",
            "who              object\n",
            "adult_male         bool\n",
            "embark_town      object\n",
            "alive            object\n",
            "alone              bool\n",
            "dtype: object\n"
          ]
        }
      ],
      "source": [
        "print(df.dtypes)"
      ]
    },
    {
      "cell_type": "markdown",
      "source": [
        "A partir de la lista inicial de variables, y considerando las relaciones encontradas en el DEA, se define eliminar las siguientes en un nuevo dataset (df2):\n",
        "- \"who\" y \"adult_male\", ya que combinan edad y sexo y por lo tanto están fuertemente correlacionadas con ellas.\n",
        "- \"alive\", que se traduce numéricamente en \"survived\"\n",
        "- \"embarked\", porque es redundante respecto a \"embark town\".\n",
        "- \"class\" y \"pclass\", ya que correlacionan con \"fare\"."
      ],
      "metadata": {
        "id": "gB43OtczAZDx"
      }
    },
    {
      "cell_type": "code",
      "source": [
        "df2 = df.drop(['who', \"adult_male\",'alive',\"embarked\", \"class\", \"pclass\"], axis=1)"
      ],
      "metadata": {
        "id": "hlMxzXF7KPu2"
      },
      "execution_count": 15,
      "outputs": []
    },
    {
      "cell_type": "code",
      "source": [
        "print(df2.dtypes)"
      ],
      "metadata": {
        "colab": {
          "base_uri": "https://localhost:8080/"
        },
        "id": "DSv6k0U4KkO7",
        "outputId": "de10f324-a518-45e6-c964-51b6b57961a9"
      },
      "execution_count": 11,
      "outputs": [
        {
          "output_type": "stream",
          "name": "stdout",
          "text": [
            "survived          int64\n",
            "pclass            int64\n",
            "sex              object\n",
            "age             float64\n",
            "sibsp             int64\n",
            "parch             int64\n",
            "fare            float64\n",
            "class          category\n",
            "embark_town      object\n",
            "alone              bool\n",
            "dtype: object\n"
          ]
        }
      ]
    },
    {
      "cell_type": "markdown",
      "source": [
        "Continuando, ahora recodificamos las variables categóricas utilizando one-hot encoding: sex, y embark_town."
      ],
      "metadata": {
        "id": "klbyH7flK-kD"
      }
    },
    {
      "cell_type": "code",
      "source": [
        "df2 = pd.get_dummies(df2, columns=['sex',\"embark_town\"])"
      ],
      "metadata": {
        "id": "NnEYxfAYKpHE"
      },
      "execution_count": 17,
      "outputs": []
    },
    {
      "cell_type": "code",
      "source": [
        "print(df2.dtypes)"
      ],
      "metadata": {
        "colab": {
          "base_uri": "https://localhost:8080/"
        },
        "id": "3E_6mlMBKx4B",
        "outputId": "eb130d23-cef1-4d55-d5c1-6fd4bf48ff6c"
      },
      "execution_count": 18,
      "outputs": [
        {
          "output_type": "stream",
          "name": "stdout",
          "text": [
            "survived                     int64\n",
            "age                        float64\n",
            "sibsp                        int64\n",
            "parch                        int64\n",
            "fare                       float64\n",
            "alone                         bool\n",
            "sex_female                    bool\n",
            "sex_male                      bool\n",
            "embark_town_Cherbourg         bool\n",
            "embark_town_Queenstown        bool\n",
            "embark_town_Southampton       bool\n",
            "dtype: object\n"
          ]
        }
      ]
    },
    {
      "cell_type": "markdown",
      "source": [
        "Modificada la base, importamos y corremos los códigos de scikit-learn para conocer las características más importantes del dataset."
      ],
      "metadata": {
        "id": "_dTfd3ZNBJ90"
      }
    },
    {
      "cell_type": "code",
      "execution_count": 19,
      "metadata": {
        "colab": {
          "base_uri": "https://localhost:8080/"
        },
        "id": "HfDVSplqw6sp",
        "outputId": "4ecf656a-4048-40a9-c9b4-b11b3e98c8a7"
      },
      "outputs": [
        {
          "output_type": "stream",
          "name": "stdout",
          "text": [
            "                   Feature  Importance\n",
            "3                     fare    0.310453\n",
            "0                      age    0.250370\n",
            "6                 sex_male    0.142774\n",
            "5               sex_female    0.136614\n",
            "1                    sibsp    0.063234\n",
            "2                    parch    0.045878\n",
            "7    embark_town_Cherbourg    0.014955\n",
            "4                    alone    0.014099\n",
            "9  embark_town_Southampton    0.013856\n",
            "8   embark_town_Queenstown    0.007767\n"
          ]
        }
      ],
      "source": [
        "from sklearn.ensemble import RandomForestClassifier\n",
        "from sklearn.model_selection import train_test_split\n",
        "\n",
        "X = df2.drop(['survived'], axis=1)\n",
        "y = df2['survived']\n",
        "\n",
        "X_train, X_test, y_train, y_test = train_test_split(X, y, test_size=0.2, random_state=42)\n",
        "\n",
        "rfmodel = RandomForestClassifier()\n",
        "rfmodel.fit(X_train, y_train)\n",
        "\n",
        "importances = rfmodel.feature_importances_\n",
        "\n",
        "importances_df = pd.DataFrame({\n",
        "    'Feature': X.columns,\n",
        "    'Importance': importances\n",
        "})\n",
        "\n",
        "importances_df = importances_df.sort_values(by='Importance', ascending=False)\n",
        "print(importances_df)"
      ]
    },
    {
      "cell_type": "markdown",
      "source": [
        "Los resultados nos confirman la importancia sustantiva del sexo y la edad en la sobrevivencia de los pasajaeros, pero aportan otro elemento que no habíamos considerado hasta ahora: la variable \"fare\", que refleja el costo de los boletos, es la de mayor importancia para la predicción de \"survive\".\n",
        "\n",
        "Para comprender esta relación, hacemos un gráfico de caja:"
      ],
      "metadata": {
        "id": "RKWWgnsZCjeG"
      }
    },
    {
      "cell_type": "code",
      "source": [
        "sns.boxplot(x='alive', y='fare', data=df)"
      ],
      "metadata": {
        "colab": {
          "base_uri": "https://localhost:8080/",
          "height": 475
        },
        "id": "eFg1qhuY1KKX",
        "outputId": "ceea6203-bb49-41b7-a08b-1034dfe419f1"
      },
      "execution_count": 40,
      "outputs": [
        {
          "output_type": "execute_result",
          "data": {
            "text/plain": [
              "<Axes: xlabel='alive', ylabel='fare'>"
            ]
          },
          "metadata": {},
          "execution_count": 40
        },
        {
          "output_type": "display_data",
          "data": {
            "text/plain": [
              "<Figure size 640x480 with 1 Axes>"
            ],
            "image/png": "[encoded data removed]"
          },
          "metadata": {}
        }
      ]
    },
    {
      "cell_type": "markdown",
      "source": [
        "El gráfico da cuenta de las mayores tarifas de quienes sobrevivieron al naufragio."
      ],
      "metadata": {
        "id": "XZV-qeld1rpc"
      }
    },
    {
      "cell_type": "markdown",
      "source": [
        "## 5) Regresión logística\n"
      ],
      "metadata": {
        "id": "YxLB2f4JNelJ"
      }
    },
    {
      "cell_type": "markdown",
      "source": [
        "Finalmente, probamos un modelo de regresión logística que nos premita predeccir con cierto nivel de certidumbre la probabilidad de haber sobrevivido o no al naufragio del Titanic.\n",
        "\n",
        "En base a la prueba anterior, y en pos de la parsimonia del modelo, nos quedamos con 3 variables principales: fare, age y sex (sex_male y sex_female)."
      ],
      "metadata": {
        "id": "bR_fc-1_rBgx"
      }
    },
    {
      "cell_type": "code",
      "source": [
        "\n",
        "from sklearn.linear_model import LogisticRegression\n",
        "from sklearn.metrics import accuracy_score\n",
        "from sklearn.model_selection import train_test_split\n",
        "from sklearn.compose import ColumnTransformer\n",
        "from sklearn.pipeline import Pipeline"
      ],
      "metadata": {
        "id": "Vshg6supOFo7"
      },
      "execution_count": 22,
      "outputs": []
    },
    {
      "cell_type": "code",
      "source": [
        "df3 = df2[['survived', 'age', 'sex_male', 'sex_female', 'fare']]"
      ],
      "metadata": {
        "id": "X82MgC8zOHHI"
      },
      "execution_count": 23,
      "outputs": []
    },
    {
      "cell_type": "code",
      "source": [
        "X = df3[['fare', 'age', \"sex_male\",\"sex_female\"]]\n",
        "y = df3['survived']"
      ],
      "metadata": {
        "id": "UZHP1iRZOtXk"
      },
      "execution_count": 25,
      "outputs": []
    },
    {
      "cell_type": "code",
      "source": [
        "X_train, X_test, y_train, y_test = train_test_split(X, y, test_size=0.2, random_state=42)"
      ],
      "metadata": {
        "id": "9T5RUkicO-AL"
      },
      "execution_count": 26,
      "outputs": []
    },
    {
      "cell_type": "code",
      "source": [
        "model = LogisticRegression()\n",
        "model.fit(X_train, y_train)\n",
        "\n"
      ],
      "metadata": {
        "colab": {
          "base_uri": "https://localhost:8080/",
          "height": 75
        },
        "id": "NqAGsLJmPNsU",
        "outputId": "bd2d8dd9-3f61-4ffe-92ab-dd42365a7e23"
      },
      "execution_count": 27,
      "outputs": [
        {
          "output_type": "execute_result",
          "data": {
            "text/plain": [
              "LogisticRegression()"
            ],
            "text/html": [
              "<style>#sk-container-id-1 {color: black;background-color: white;}#sk-container-id-1 pre{padding: 0;}#sk-container-id-1 div.sk-toggleable {background-color: white;}#sk-container-id-1 label.sk-toggleable__label {cursor: pointer;display: block;width: 100%;margin-bottom: 0;padding: 0.3em;box-sizing: border-box;text-align: center;}#sk-container-id-1 label.sk-toggleable__label-arrow:before {content: \"▸\";float: left;margin-right: 0.25em;color: #696969;}#sk-container-id-1 label.sk-toggleable__label-arrow:hover:before {color: black;}#sk-container-id-1 div.sk-estimator:hover label.sk-toggleable__label-arrow:before {color: black;}#sk-container-id-1 div.sk-toggleable__content {max-height: 0;max-width: 0;overflow: hidden;text-align: left;background-color: #f0f8ff;}#sk-container-id-1 div.sk-toggleable__content pre {margin: 0.2em;color: black;border-radius: 0.25em;background-color: #f0f8ff;}#sk-container-id-1 input.sk-toggleable__control:checked~div.sk-toggleable__content {max-height: 200px;max-width: 100%;overflow: auto;}#sk-container-id-1 input.sk-toggleable__control:checked~label.sk-toggleable__label-arrow:before {content: \"▾\";}#sk-container-id-1 div.sk-estimator input.sk-toggleable__control:checked~label.sk-toggleable__label {background-color: #d4ebff;}#sk-container-id-1 div.sk-label input.sk-toggleable__control:checked~label.sk-toggleable__label {background-color: #d4ebff;}#sk-container-id-1 input.sk-hidden--visually {border: 0;clip: rect(1px 1px 1px 1px);clip: rect(1px, 1px, 1px, 1px);height: 1px;margin: -1px;overflow: hidden;padding: 0;position: absolute;width: 1px;}#sk-container-id-1 div.sk-estimator {font-family: monospace;background-color: #f0f8ff;border: 1px dotted black;border-radius: 0.25em;box-sizing: border-box;margin-bottom: 0.5em;}#sk-container-id-1 div.sk-estimator:hover {background-color: #d4ebff;}#sk-container-id-1 div.sk-parallel-item::after {content: \"\";width: 100%;border-bottom: 1px solid gray;flex-grow: 1;}#sk-container-id-1 div.sk-label:hover label.sk-toggleable__label {background-color: #d4ebff;}#sk-container-id-1 div.sk-serial::before {content: \"\";position: absolute;border-left: 1px solid gray;box-sizing: border-box;top: 0;bottom: 0;left: 50%;z-index: 0;}#sk-container-id-1 div.sk-serial {display: flex;flex-direction: column;align-items: center;background-color: white;padding-right: 0.2em;padding-left: 0.2em;position: relative;}#sk-container-id-1 div.sk-item {position: relative;z-index: 1;}#sk-container-id-1 div.sk-parallel {display: flex;align-items: stretch;justify-content: center;background-color: white;position: relative;}#sk-container-id-1 div.sk-item::before, #sk-container-id-1 div.sk-parallel-item::before {content: \"\";position: absolute;border-left: 1px solid gray;box-sizing: border-box;top: 0;bottom: 0;left: 50%;z-index: -1;}#sk-container-id-1 div.sk-parallel-item {display: flex;flex-direction: column;z-index: 1;position: relative;background-color: white;}#sk-container-id-1 div.sk-parallel-item:first-child::after {align-self: flex-end;width: 50%;}#sk-container-id-1 div.sk-parallel-item:last-child::after {align-self: flex-start;width: 50%;}#sk-container-id-1 div.sk-parallel-item:only-child::after {width: 0;}#sk-container-id-1 div.sk-dashed-wrapped {border: 1px dashed gray;margin: 0 0.4em 0.5em 0.4em;box-sizing: border-box;padding-bottom: 0.4em;background-color: white;}#sk-container-id-1 div.sk-label label {font-family: monospace;font-weight: bold;display: inline-block;line-height: 1.2em;}#sk-container-id-1 div.sk-label-container {text-align: center;}#sk-container-id-1 div.sk-container {/* jupyter's `normalize.less` sets `[hidden] { display: none; }` but bootstrap.min.css set `[hidden] { display: none !important; }` so we also need the `!important` here to be able to override the default hidden behavior on the sphinx rendered scikit-learn.org. See: https://github.com/scikit-learn/scikit-learn/issues/21755 */display: inline-block !important;position: relative;}#sk-container-id-1 div.sk-text-repr-fallback {display: none;}</style><div id=\"sk-container-id-1\" class=\"sk-top-container\"><div class=\"sk-text-repr-fallback\"><pre>LogisticRegression()</pre><b>In a Jupyter environment, please rerun this cell to show the HTML representation or trust the notebook. <br />On GitHub, the HTML representation is unable to render, please try loading this page with nbviewer.org.</b></div><div class=\"sk-container\" hidden><div class=\"sk-item\"><div class=\"sk-estimator sk-toggleable\"><input class=\"sk-toggleable__control sk-hidden--visually\" id=\"sk-estimator-id-1\" type=\"checkbox\" checked><label for=\"sk-estimator-id-1\" class=\"sk-toggleable__label sk-toggleable__label-arrow\">LogisticRegression</label><div class=\"sk-toggleable__content\"><pre>LogisticRegression()</pre></div></div></div></div></div>"
            ]
          },
          "metadata": {},
          "execution_count": 27
        }
      ]
    },
    {
      "cell_type": "code",
      "source": [
        "print(model.coef_)\n",
        "print(model.intercept_)"
      ],
      "metadata": {
        "colab": {
          "base_uri": "https://localhost:8080/"
        },
        "id": "jrHcMvrDtoS0",
        "outputId": "26f8872d-ccef-4f87-d98e-d6181fd642f6"
      },
      "execution_count": 34,
      "outputs": [
        {
          "output_type": "stream",
          "name": "stdout",
          "text": [
            "[[ 0.01136675 -0.01081027 -1.17248403  1.17237903]]\n",
            "[-0.22596431]\n"
          ]
        }
      ]
    },
    {
      "cell_type": "code",
      "source": [
        "accuracy = model.score(X_test, y_test)\n",
        "print('Accuracy:', accuracy)"
      ],
      "metadata": {
        "colab": {
          "base_uri": "https://localhost:8080/"
        },
        "id": "z4bWA1pEPQyo",
        "outputId": "3a425120-bc56-4e9d-a0b9-1db99061aa90"
      },
      "execution_count": 35,
      "outputs": [
        {
          "output_type": "stream",
          "name": "stdout",
          "text": [
            "Accuracy: 0.8033707865168539\n"
          ]
        }
      ]
    },
    {
      "cell_type": "markdown",
      "source": [
        "El modelo escogido, a partir de las variables utilizadas, logró un 80% de precisión. Es decir, predijo en el 80% de los casos la supervivencia o no de los pasajeros, a partir de las 3 variables seleccionadas.\n",
        "\n",
        "Para visualizar el desempeño del modelo, haremos una matriz de confusión."
      ],
      "metadata": {
        "id": "KITHc1MLuCYj"
      }
    },
    {
      "cell_type": "code",
      "source": [
        "from sklearn.metrics import confusion_matrix\n",
        "\n",
        "y_pred = model.predict(X_test)\n",
        "cf_matrix = confusion_matrix(y_test, y_pred)\n",
        "\n",
        "ax = sns.heatmap(cf_matrix, annot=True, cmap='Blues')\n",
        "ax.set_title('Matriz de confusion con labels\\n\\n');\n",
        "ax.set_xlabel('\\nValores predichos')\n",
        "ax.set_ylabel('Valores reales ');\n",
        "\n",
        "ax.xaxis.set_ticklabels(['False','True'])\n",
        "ax.yaxis.set_ticklabels(['False','True'])\n",
        "plt.show()\n",
        "\n"
      ],
      "metadata": {
        "colab": {
          "base_uri": "https://localhost:8080/",
          "height": 530
        },
        "id": "6MF35tNtRO7F",
        "outputId": "8b168514-aabf-44b3-d7f8-c64822c8abaa"
      },
      "execution_count": 37,
      "outputs": [
        {
          "output_type": "display_data",
          "data": {
            "text/plain": [
              "<Figure size 640x480 with 2 Axes>"
            ],
            "image/png": "[encoded data removed]"
          },
          "metadata": {}
        }
      ]
    },
    {
      "cell_type": "markdown",
      "source": [
        "En la matriz podemos visualizar que la mayoría de los casos fueron \"verdaderos negativos\"; es decir, el modelo predijo 89 veces que no habría supervivencia y efectivamente no la hubo. En segundo lugar, hubo 54 casos de supervivencia predichos por el modelo.\n",
        "\n",
        "Fuerno minotirarios los errores del modelo, en el que tuvieron una leve preponderancia los falsos positivos por sobre los falsos negativos. Se trata de un modelo más confliable cuando prevee el fallecimiento de los pasajeros (89 contra 15 probabilidades de acierto) que la supervivencica (54 contra 20 probabilidades de acierto)."
      ],
      "metadata": {
        "id": "cdiYN32bvdSg"
      }
    },
    {
      "cell_type": "markdown",
      "source": [
        "## 6) Síntesis"
      ],
      "metadata": {
        "id": "y4rWovjBw4dj"
      }
    },
    {
      "cell_type": "markdown",
      "source": [
        "En el presente trabajo, basado en el dataset Titanic, se buscó llegar a un modelo sintético que permitiera establecer la probabilidad de haber sobrevivido al naufragio del Titanic en base a un amplio conjunto de variables incluidas en el dataset.\n",
        "\n",
        "A lo largo del informe, se preparó el dataset para que fuera utilizado, se exploraron diferentes variables y sus relaciones mediante visualiaciones gráficas, se consideraron las variables más importantes en la predicción del target a través de un modelo de feature selection para, finalmente, establecer un modelo de regresión logística con una cantidad parsimoniosa de variables.\n",
        "\n",
        "El modelo alcanzado considera las variables sex, age y fare para predecir, con un 80% de precisión, la probabilidad de haber sobrevivido o no al naugrafio del Titanic. Esto da cuenta de la importancia que tuvieron el nivel socioeconómico, la edad y el sexo en las posibilidades de naufragio. Es decir: tuvieron mayores probabilidades de sobrevivir los hombres que las mujeres, los niños que los adultos, y quienes tenían tarifas más elevadas que quienes tenían tarifas más bajas.\n",
        "\n",
        "La matriz de confusión nos confirma la precisión del modelo, así como indica que son más las probabilidades de acierto del modelo cuando predice el fallecimiento que cuando predice la supervivencia."
      ],
      "metadata": {
        "id": "IyRDaEGbw8A9"
      }
    }
  ],
  "metadata": {
    "colab": {
      "provenance": [],
      "authorship_tag": "ABX9TyOMiL+nS3PCCSWE54CR5ufw",
      "include_colab_link": true
    },
    "kernelspec": {
      "display_name": "Python 3",
      "name": "python3"
    },
    "language_info": {
      "name": "python"
    }
  },
  "nbformat": 4,
  "nbformat_minor": 0
}