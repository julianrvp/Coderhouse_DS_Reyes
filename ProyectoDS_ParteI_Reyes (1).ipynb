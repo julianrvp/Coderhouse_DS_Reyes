{
  "nbformat": 4,
  "nbformat_minor": 0,
  "metadata": {
    "colab": {
      "provenance": []
    },
    "kernelspec": {
      "name": "python3",
      "display_name": "Python 3"
    },
    "language_info": {
      "name": "python"
    }
  },
  "cells": [
    {
      "cell_type": "markdown",
      "source": [
        "# **Primera Preentrega**\n",
        "## Julián Reyes Varela\n",
        "### Data Science I: Fundamentos para la Ciencia de Datos. CODERHOUSE.\n",
        "\n",
        "Marzo de 2024\n"
      ],
      "metadata": {
        "id": "0ZYLGNM5P-rI"
      }
    },
    {
      "cell_type": "markdown",
      "source": [
        "## 1) Abstract"
      ],
      "metadata": {
        "id": "_2SdOKoDScw_"
      }
    },
    {
      "cell_type": "markdown",
      "source": [
        "La pregunta qué orienta la pre-entrega puede definirse de esta forma: ¿qué factores son determinantes en el éxito de un libro?\n",
        "\n",
        "En función del dataset seleccionado, se define el éxito del libro a partir de dos variables: el puntaje promedio obtenido por el libro en ratings realizados por críticos o público en general (variable \"Book_average_rating\") y la cantidad de unidades vendidas (variable \"units sold\"). De esta forma, se toman en cuenta tanto una dimensión comercial como una que concierne a la calidad literaria de los libros, para considerar su éxito.\n",
        "\n",
        "Los factores explicativos seleccionados para esta indagación son dos: el prestigio del autor y el género de los libros. Se explorará, entonces, la relación entre estas variables explicativas (\"Author_Rating\" y \"genre\") con las variables de éxito del libro (\"Book_average_rating\" y \"units sold\").\n",
        "\n",
        "Luego de este resumen, en el siguiente apartado se ejecutan los códigos necesarios para el trabajo en este cuaderno y se prepara el dataset. En el tercer apartado se aborda el análisis en cuatro etapas: análisis univariado de cada variable involucrada, análisis bivariado para explicar \"Book_average_rating\", análisis bivariado para explicar \"units sold\", y análisis multivariado. Finalmente, el trabajo se cierra con un apartado de conclusiones que sintetiza los principales insights."
      ],
      "metadata": {
        "id": "TD_drbgIdPD-"
      }
    },
    {
      "cell_type": "markdown",
      "source": [
        "## 2) Preparación del cuaderno y del dataset"
      ],
      "metadata": {
        "id": "8Q5mqcboQq2L"
      }
    },
    {
      "cell_type": "code",
      "execution_count": 1,
      "metadata": {
        "id": "oBIUNGOPEydK"
      },
      "outputs": [],
      "source": [
        "import pandas as pd\n",
        "import matplotlib as mpl\n",
        "import matplotlib.pyplot as plt\n",
        "import seaborn as sns\n"
      ]
    },
    {
      "cell_type": "code",
      "source": [
        "from google.colab import drive\n",
        "import os\n",
        "drive.mount('/content/gdrive')\n",
        "%cd '/content/gdrive/MyDrive/'"
      ],
      "metadata": {
        "colab": {
          "base_uri": "https://localhost:8080/"
        },
        "id": "v6CFeWEBE2cn",
        "outputId": "a6091d30-c9cc-436a-a6f1-66f3149c220d"
      },
      "execution_count": 2,
      "outputs": [
        {
          "output_type": "stream",
          "name": "stdout",
          "text": [
            "Mounted at /content/gdrive\n",
            "/content/gdrive/MyDrive\n"
          ]
        }
      ]
    },
    {
      "cell_type": "code",
      "source": [
        "dfreyes=pd.read_csv('Books_Data_Clean.csv', sep=\",\")"
      ],
      "metadata": {
        "id": "wQUBPGTIE7xl"
      },
      "execution_count": 3,
      "outputs": []
    },
    {
      "cell_type": "markdown",
      "source": [
        "Se seleccionó el dataset \"Book Sales and Rating\", de Josh Murrey, publicado en Kaggle: https://www.kaggle.com/datasets/thedevastator/books-sales-and-ratings\n",
        "\n",
        "El dataset consiste en una base de 1070 filas (libros) y 15 columnas o variables, que permiten testear hipótesis respecto de las preguntas planteadas en el abstract de este trabajo."
      ],
      "metadata": {
        "id": "rLN35EVtTt2n"
      }
    },
    {
      "cell_type": "code",
      "source": [
        "dfreyes"
      ],
      "metadata": {
        "colab": {
          "base_uri": "https://localhost:8080/",
          "height": 823
        },
        "id": "qJ63b7GpFEbk",
        "outputId": "25d4c9b0-6f60-4466-97c9-8e764dcd3624"
      },
      "execution_count": 4,
      "outputs": [
        {
          "output_type": "execute_result",
          "data": {
            "text/plain": [
              "      index  Publishing Year                        Book Name  \\\n",
              "0         0           1975.0                          Beowulf   \n",
              "1         1           1987.0                 Batman: Year One   \n",
              "2         2           2015.0                Go Set a Watchman   \n",
              "3         3           2008.0  When You Are Engulfed in Flames   \n",
              "4         4           2011.0         Daughter of Smoke & Bone   \n",
              "...     ...              ...                              ...   \n",
              "1065   1065           2014.0                    Gray Mountain   \n",
              "1066   1066           1989.0                 The Power of One   \n",
              "1067   1067           1930.0               The Maltese Falcon   \n",
              "1068   1068           2011.0                       Night Road   \n",
              "1069   1069           1999.0                         Tripwire   \n",
              "\n",
              "                                                 Author language_code  \\\n",
              "0                                Unknown, Seamus Heaney         en-US   \n",
              "1     Frank Miller, David Mazzucchelli, Richmond Lew...           eng   \n",
              "2                                            Harper Lee           eng   \n",
              "3                                         David Sedaris         en-US   \n",
              "4                                          Laini Taylor           eng   \n",
              "...                                                 ...           ...   \n",
              "1065                                       John Grisham           eng   \n",
              "1066                                    Bryce Courtenay           eng   \n",
              "1067                                   Dashiell Hammett           eng   \n",
              "1068                                     Kristin Hannah         en-US   \n",
              "1069                                          Lee Child           eng   \n",
              "\n",
              "     Author_Rating  Book_average_rating  Book_ratings_count          genre  \\\n",
              "0           Novice                 3.42              155903  genre fiction   \n",
              "1     Intermediate                 4.23              145267  genre fiction   \n",
              "2           Novice                 3.31              138669  genre fiction   \n",
              "3     Intermediate                 4.04              150898        fiction   \n",
              "4     Intermediate                 4.04              198283  genre fiction   \n",
              "...            ...                  ...                 ...            ...   \n",
              "1065  Intermediate                 3.52               37379     nonfiction   \n",
              "1066     Excellent                 4.34               57312  genre fiction   \n",
              "1067  Intermediate                 3.92               58742  genre fiction   \n",
              "1068     Excellent                 4.17               58028  genre fiction   \n",
              "1069     Excellent                 4.07               55251  genre fiction   \n",
              "\n",
              "      gross sales  publisher revenue  sale price  sales rank  \\\n",
              "0        34160.00          20496.000        4.88           1   \n",
              "1        12437.50           7462.500        1.99           2   \n",
              "2        47795.00          28677.000        8.69           3   \n",
              "3        41250.00          24750.000        7.50           3   \n",
              "4        37952.50          22771.500        7.99           4   \n",
              "...           ...                ...         ...         ...   \n",
              "1065       104.94             62.964        0.99        1268   \n",
              "1066       846.94            508.164        7.99        1270   \n",
              "1067       846.94            508.164        7.99        1271   \n",
              "1068       104.94             62.964        0.99        1272   \n",
              "1069       316.94              0.000        2.99        1273   \n",
              "\n",
              "                          Publisher   units sold  \n",
              "0           HarperCollins Publishers        7000  \n",
              "1           HarperCollins Publishers        6250  \n",
              "2     Amazon Digital Services,  Inc.        5500  \n",
              "3                Hachette Book Group        5500  \n",
              "4            Penguin Group (USA) LLC        4750  \n",
              "...                              ...         ...  \n",
              "1065  Amazon Digital Services,  Inc.         106  \n",
              "1066                Random House LLC         106  \n",
              "1067             Hachette Book Group         106  \n",
              "1068  Amazon Digital Services,  Inc.         106  \n",
              "1069  Amazon Digital Services,  Inc.         106  \n",
              "\n",
              "[1070 rows x 15 columns]"
            ],
            "text/html": [
              "\n",
              "  <div id=\"df-e104de5c-f2fe-41a4-bda6-b89ce96f8c6d\" class=\"colab-df-container\">\n",
              "    <div>\n",
              "<style scoped>\n",
              "    .dataframe tbody tr th:only-of-type {\n",
              "        vertical-align: middle;\n",
              "    }\n",
              "\n",
              "    .dataframe tbody tr th {\n",
              "        vertical-align: top;\n",
              "    }\n",
              "\n",
              "    .dataframe thead th {\n",
              "        text-align: right;\n",
              "    }\n",
              "</style>\n",
              "<table border=\"1\" class=\"dataframe\">\n",
              "  <thead>\n",
              "    <tr style=\"text-align: right;\">\n",
              "      <th></th>\n",
              "      <th>index</th>\n",
              "      <th>Publishing Year</th>\n",
              "      <th>Book Name</th>\n",
              "      <th>Author</th>\n",
              "      <th>language_code</th>\n",
              "      <th>Author_Rating</th>\n",
              "      <th>Book_average_rating</th>\n",
              "      <th>Book_ratings_count</th>\n",
              "      <th>genre</th>\n",
              "      <th>gross sales</th>\n",
              "      <th>publisher revenue</th>\n",
              "      <th>sale price</th>\n",
              "      <th>sales rank</th>\n",
              "      <th>Publisher</th>\n",
              "      <th>units sold</th>\n",
              "    </tr>\n",
              "  </thead>\n",
              "  <tbody>\n",
              "    <tr>\n",
              "      <th>0</th>\n",
              "      <td>0</td>\n",
              "      <td>1975.0</td>\n",
              "      <td>Beowulf</td>\n",
              "      <td>Unknown, Seamus Heaney</td>\n",
              "      <td>en-US</td>\n",
              "      <td>Novice</td>\n",
              "      <td>3.42</td>\n",
              "      <td>155903</td>\n",
              "      <td>genre fiction</td>\n",
              "      <td>34160.00</td>\n",
              "      <td>20496.000</td>\n",
              "      <td>4.88</td>\n",
              "      <td>1</td>\n",
              "      <td>HarperCollins Publishers</td>\n",
              "      <td>7000</td>\n",
              "    </tr>\n",
              "    <tr>\n",
              "      <th>1</th>\n",
              "      <td>1</td>\n",
              "      <td>1987.0</td>\n",
              "      <td>Batman: Year One</td>\n",
              "      <td>Frank Miller, David Mazzucchelli, Richmond Lew...</td>\n",
              "      <td>eng</td>\n",
              "      <td>Intermediate</td>\n",
              "      <td>4.23</td>\n",
              "      <td>145267</td>\n",
              "      <td>genre fiction</td>\n",
              "      <td>12437.50</td>\n",
              "      <td>7462.500</td>\n",
              "      <td>1.99</td>\n",
              "      <td>2</td>\n",
              "      <td>HarperCollins Publishers</td>\n",
              "      <td>6250</td>\n",
              "    </tr>\n",
              "    <tr>\n",
              "      <th>2</th>\n",
              "      <td>2</td>\n",
              "      <td>2015.0</td>\n",
              "      <td>Go Set a Watchman</td>\n",
              "      <td>Harper Lee</td>\n",
              "      <td>eng</td>\n",
              "      <td>Novice</td>\n",
              "      <td>3.31</td>\n",
              "      <td>138669</td>\n",
              "      <td>genre fiction</td>\n",
              "      <td>47795.00</td>\n",
              "      <td>28677.000</td>\n",
              "      <td>8.69</td>\n",
              "      <td>3</td>\n",
              "      <td>Amazon Digital Services,  Inc.</td>\n",
              "      <td>5500</td>\n",
              "    </tr>\n",
              "    <tr>\n",
              "      <th>3</th>\n",
              "      <td>3</td>\n",
              "      <td>2008.0</td>\n",
              "      <td>When You Are Engulfed in Flames</td>\n",
              "      <td>David Sedaris</td>\n",
              "      <td>en-US</td>\n",
              "      <td>Intermediate</td>\n",
              "      <td>4.04</td>\n",
              "      <td>150898</td>\n",
              "      <td>fiction</td>\n",
              "      <td>41250.00</td>\n",
              "      <td>24750.000</td>\n",
              "      <td>7.50</td>\n",
              "      <td>3</td>\n",
              "      <td>Hachette Book Group</td>\n",
              "      <td>5500</td>\n",
              "    </tr>\n",
              "    <tr>\n",
              "      <th>4</th>\n",
              "      <td>4</td>\n",
              "      <td>2011.0</td>\n",
              "      <td>Daughter of Smoke &amp; Bone</td>\n",
              "      <td>Laini Taylor</td>\n",
              "      <td>eng</td>\n",
              "      <td>Intermediate</td>\n",
              "      <td>4.04</td>\n",
              "      <td>198283</td>\n",
              "      <td>genre fiction</td>\n",
              "      <td>37952.50</td>\n",
              "      <td>22771.500</td>\n",
              "      <td>7.99</td>\n",
              "      <td>4</td>\n",
              "      <td>Penguin Group (USA) LLC</td>\n",
              "      <td>4750</td>\n",
              "    </tr>\n",
              "    <tr>\n",
              "      <th>...</th>\n",
              "      <td>...</td>\n",
              "      <td>...</td>\n",
              "      <td>...</td>\n",
              "      <td>...</td>\n",
              "      <td>...</td>\n",
              "      <td>...</td>\n",
              "      <td>...</td>\n",
              "      <td>...</td>\n",
              "      <td>...</td>\n",
              "      <td>...</td>\n",
              "      <td>...</td>\n",
              "      <td>...</td>\n",
              "      <td>...</td>\n",
              "      <td>...</td>\n",
              "      <td>...</td>\n",
              "    </tr>\n",
              "    <tr>\n",
              "      <th>1065</th>\n",
              "      <td>1065</td>\n",
              "      <td>2014.0</td>\n",
              "      <td>Gray Mountain</td>\n",
              "      <td>John Grisham</td>\n",
              "      <td>eng</td>\n",
              "      <td>Intermediate</td>\n",
              "      <td>3.52</td>\n",
              "      <td>37379</td>\n",
              "      <td>nonfiction</td>\n",
              "      <td>104.94</td>\n",
              "      <td>62.964</td>\n",
              "      <td>0.99</td>\n",
              "      <td>1268</td>\n",
              "      <td>Amazon Digital Services,  Inc.</td>\n",
              "      <td>106</td>\n",
              "    </tr>\n",
              "    <tr>\n",
              "      <th>1066</th>\n",
              "      <td>1066</td>\n",
              "      <td>1989.0</td>\n",
              "      <td>The Power of One</td>\n",
              "      <td>Bryce Courtenay</td>\n",
              "      <td>eng</td>\n",
              "      <td>Excellent</td>\n",
              "      <td>4.34</td>\n",
              "      <td>57312</td>\n",
              "      <td>genre fiction</td>\n",
              "      <td>846.94</td>\n",
              "      <td>508.164</td>\n",
              "      <td>7.99</td>\n",
              "      <td>1270</td>\n",
              "      <td>Random House LLC</td>\n",
              "      <td>106</td>\n",
              "    </tr>\n",
              "    <tr>\n",
              "      <th>1067</th>\n",
              "      <td>1067</td>\n",
              "      <td>1930.0</td>\n",
              "      <td>The Maltese Falcon</td>\n",
              "      <td>Dashiell Hammett</td>\n",
              "      <td>eng</td>\n",
              "      <td>Intermediate</td>\n",
              "      <td>3.92</td>\n",
              "      <td>58742</td>\n",
              "      <td>genre fiction</td>\n",
              "      <td>846.94</td>\n",
              "      <td>508.164</td>\n",
              "      <td>7.99</td>\n",
              "      <td>1271</td>\n",
              "      <td>Hachette Book Group</td>\n",
              "      <td>106</td>\n",
              "    </tr>\n",
              "    <tr>\n",
              "      <th>1068</th>\n",
              "      <td>1068</td>\n",
              "      <td>2011.0</td>\n",
              "      <td>Night Road</td>\n",
              "      <td>Kristin Hannah</td>\n",
              "      <td>en-US</td>\n",
              "      <td>Excellent</td>\n",
              "      <td>4.17</td>\n",
              "      <td>58028</td>\n",
              "      <td>genre fiction</td>\n",
              "      <td>104.94</td>\n",
              "      <td>62.964</td>\n",
              "      <td>0.99</td>\n",
              "      <td>1272</td>\n",
              "      <td>Amazon Digital Services,  Inc.</td>\n",
              "      <td>106</td>\n",
              "    </tr>\n",
              "    <tr>\n",
              "      <th>1069</th>\n",
              "      <td>1069</td>\n",
              "      <td>1999.0</td>\n",
              "      <td>Tripwire</td>\n",
              "      <td>Lee Child</td>\n",
              "      <td>eng</td>\n",
              "      <td>Excellent</td>\n",
              "      <td>4.07</td>\n",
              "      <td>55251</td>\n",
              "      <td>genre fiction</td>\n",
              "      <td>316.94</td>\n",
              "      <td>0.000</td>\n",
              "      <td>2.99</td>\n",
              "      <td>1273</td>\n",
              "      <td>Amazon Digital Services,  Inc.</td>\n",
              "      <td>106</td>\n",
              "    </tr>\n",
              "  </tbody>\n",
              "</table>\n",
              "<p>1070 rows × 15 columns</p>\n",
              "</div>\n",
              "    <div class=\"colab-df-buttons\">\n",
              "\n",
              "  <div class=\"colab-df-container\">\n",
              "    <button class=\"colab-df-convert\" onclick=\"convertToInteractive('df-e104de5c-f2fe-41a4-bda6-b89ce96f8c6d')\"\n",
              "            title=\"Convert this dataframe to an interactive table.\"\n",
              "            style=\"display:none;\">\n",
              "\n",
              "  <svg xmlns=\"http://www.w3.org/2000/svg\" height=\"24px\" viewBox=\"0 -960 960 960\">\n",
              "    <path d=\"M120-120v-720h720v720H120Zm60-500h600v-160H180v160Zm220 220h160v-160H400v160Zm0 220h160v-160H400v160ZM180-400h160v-160H180v160Zm440 0h160v-160H620v160ZM180-180h160v-160H180v160Zm440 0h160v-160H620v160Z\"/>\n",
              "  </svg>\n",
              "    </button>\n",
              "\n",
              "  <style>\n",
              "    .colab-df-container {\n",
              "      display:flex;\n",
              "      gap: 12px;\n",
              "    }\n",
              "\n",
              "    .colab-df-convert {\n",
              "      background-color: #E8F0FE;\n",
              "      border: none;\n",
              "      border-radius: 50%;\n",
              "      cursor: pointer;\n",
              "      display: none;\n",
              "      fill: #1967D2;\n",
              "      height: 32px;\n",
              "      padding: 0 0 0 0;\n",
              "      width: 32px;\n",
              "    }\n",
              "\n",
              "    .colab-df-convert:hover {\n",
              "      background-color: #E2EBFA;\n",
              "      box-shadow: 0px 1px 2px rgba(60, 64, 67, 0.3), 0px 1px 3px 1px rgba(60, 64, 67, 0.15);\n",
              "      fill: #174EA6;\n",
              "    }\n",
              "\n",
              "    .colab-df-buttons div {\n",
              "      margin-bottom: 4px;\n",
              "    }\n",
              "\n",
              "    [theme=dark] .colab-df-convert {\n",
              "      background-color: #3B4455;\n",
              "      fill: #D2E3FC;\n",
              "    }\n",
              "\n",
              "    [theme=dark] .colab-df-convert:hover {\n",
              "      background-color: #434B5C;\n",
              "      box-shadow: 0px 1px 3px 1px rgba(0, 0, 0, 0.15);\n",
              "      filter: drop-shadow(0px 1px 2px rgba(0, 0, 0, 0.3));\n",
              "      fill: #FFFFFF;\n",
              "    }\n",
              "  </style>\n",
              "\n",
              "    <script>\n",
              "      const buttonEl =\n",
              "        document.querySelector('#df-e104de5c-f2fe-41a4-bda6-b89ce96f8c6d button.colab-df-convert');\n",
              "      buttonEl.style.display =\n",
              "        google.colab.kernel.accessAllowed ? 'block' : 'none';\n",
              "\n",
              "      async function convertToInteractive(key) {\n",
              "        const element = document.querySelector('#df-e104de5c-f2fe-41a4-bda6-b89ce96f8c6d');\n",
              "        const dataTable =\n",
              "          await google.colab.kernel.invokeFunction('convertToInteractive',\n",
              "                                                    [key], {});\n",
              "        if (!dataTable) return;\n",
              "\n",
              "        const docLinkHtml = 'Like what you see? Visit the ' +\n",
              "          '<a target=\"_blank\" href=https://colab.research.google.com/notebooks/data_table.ipynb>data table notebook</a>'\n",
              "          + ' to learn more about interactive tables.';\n",
              "        element.innerHTML = '';\n",
              "        dataTable['output_type'] = 'display_data';\n",
              "        await google.colab.output.renderOutput(dataTable, element);\n",
              "        const docLink = document.createElement('div');\n",
              "        docLink.innerHTML = docLinkHtml;\n",
              "        element.appendChild(docLink);\n",
              "      }\n",
              "    </script>\n",
              "  </div>\n",
              "\n",
              "\n",
              "<div id=\"df-e0584b21-134e-46c3-9ee2-64d9c8377169\">\n",
              "  <button class=\"colab-df-quickchart\" onclick=\"quickchart('df-e0584b21-134e-46c3-9ee2-64d9c8377169')\"\n",
              "            title=\"Suggest charts\"\n",
              "            style=\"display:none;\">\n",
              "\n",
              "<svg xmlns=\"http://www.w3.org/2000/svg\" height=\"24px\"viewBox=\"0 0 24 24\"\n",
              "     width=\"24px\">\n",
              "    <g>\n",
              "        <path d=\"M19 3H5c-1.1 0-2 .9-2 2v14c0 1.1.9 2 2 2h14c1.1 0 2-.9 2-2V5c0-1.1-.9-2-2-2zM9 17H7v-7h2v7zm4 0h-2V7h2v10zm4 0h-2v-4h2v4z\"/>\n",
              "    </g>\n",
              "</svg>\n",
              "  </button>\n",
              "\n",
              "<style>\n",
              "  .colab-df-quickchart {\n",
              "      --bg-color: #E8F0FE;\n",
              "      --fill-color: #1967D2;\n",
              "      --hover-bg-color: #E2EBFA;\n",
              "      --hover-fill-color: #174EA6;\n",
              "      --disabled-fill-color: #AAA;\n",
              "      --disabled-bg-color: #DDD;\n",
              "  }\n",
              "\n",
              "  [theme=dark] .colab-df-quickchart {\n",
              "      --bg-color: #3B4455;\n",
              "      --fill-color: #D2E3FC;\n",
              "      --hover-bg-color: #434B5C;\n",
              "      --hover-fill-color: #FFFFFF;\n",
              "      --disabled-bg-color: #3B4455;\n",
              "      --disabled-fill-color: #666;\n",
              "  }\n",
              "\n",
              "  .colab-df-quickchart {\n",
              "    background-color: var(--bg-color);\n",
              "    border: none;\n",
              "    border-radius: 50%;\n",
              "    cursor: pointer;\n",
              "    display: none;\n",
              "    fill: var(--fill-color);\n",
              "    height: 32px;\n",
              "    padding: 0;\n",
              "    width: 32px;\n",
              "  }\n",
              "\n",
              "  .colab-df-quickchart:hover {\n",
              "    background-color: var(--hover-bg-color);\n",
              "    box-shadow: 0 1px 2px rgba(60, 64, 67, 0.3), 0 1px 3px 1px rgba(60, 64, 67, 0.15);\n",
              "    fill: var(--button-hover-fill-color);\n",
              "  }\n",
              "\n",
              "  .colab-df-quickchart-complete:disabled,\n",
              "  .colab-df-quickchart-complete:disabled:hover {\n",
              "    background-color: var(--disabled-bg-color);\n",
              "    fill: var(--disabled-fill-color);\n",
              "    box-shadow: none;\n",
              "  }\n",
              "\n",
              "  .colab-df-spinner {\n",
              "    border: 2px solid var(--fill-color);\n",
              "    border-color: transparent;\n",
              "    border-bottom-color: var(--fill-color);\n",
              "    animation:\n",
              "      spin 1s steps(1) infinite;\n",
              "  }\n",
              "\n",
              "  @keyframes spin {\n",
              "    0% {\n",
              "      border-color: transparent;\n",
              "      border-bottom-color: var(--fill-color);\n",
              "      border-left-color: var(--fill-color);\n",
              "    }\n",
              "    20% {\n",
              "      border-color: transparent;\n",
              "      border-left-color: var(--fill-color);\n",
              "      border-top-color: var(--fill-color);\n",
              "    }\n",
              "    30% {\n",
              "      border-color: transparent;\n",
              "      border-left-color: var(--fill-color);\n",
              "      border-top-color: var(--fill-color);\n",
              "      border-right-color: var(--fill-color);\n",
              "    }\n",
              "    40% {\n",
              "      border-color: transparent;\n",
              "      border-right-color: var(--fill-color);\n",
              "      border-top-color: var(--fill-color);\n",
              "    }\n",
              "    60% {\n",
              "      border-color: transparent;\n",
              "      border-right-color: var(--fill-color);\n",
              "    }\n",
              "    80% {\n",
              "      border-color: transparent;\n",
              "      border-right-color: var(--fill-color);\n",
              "      border-bottom-color: var(--fill-color);\n",
              "    }\n",
              "    90% {\n",
              "      border-color: transparent;\n",
              "      border-bottom-color: var(--fill-color);\n",
              "    }\n",
              "  }\n",
              "</style>\n",
              "\n",
              "  <script>\n",
              "    async function quickchart(key) {\n",
              "      const quickchartButtonEl =\n",
              "        document.querySelector('#' + key + ' button');\n",
              "      quickchartButtonEl.disabled = true;  // To prevent multiple clicks.\n",
              "      quickchartButtonEl.classList.add('colab-df-spinner');\n",
              "      try {\n",
              "        const charts = await google.colab.kernel.invokeFunction(\n",
              "            'suggestCharts', [key], {});\n",
              "      } catch (error) {\n",
              "        console.error('Error during call to suggestCharts:', error);\n",
              "      }\n",
              "      quickchartButtonEl.classList.remove('colab-df-spinner');\n",
              "      quickchartButtonEl.classList.add('colab-df-quickchart-complete');\n",
              "    }\n",
              "    (() => {\n",
              "      let quickchartButtonEl =\n",
              "        document.querySelector('#df-e0584b21-134e-46c3-9ee2-64d9c8377169 button');\n",
              "      quickchartButtonEl.style.display =\n",
              "        google.colab.kernel.accessAllowed ? 'block' : 'none';\n",
              "    })();\n",
              "  </script>\n",
              "</div>\n",
              "\n",
              "  <div id=\"id_0925077a-d36f-4979-86ff-d87db766ee28\">\n",
              "    <style>\n",
              "      .colab-df-generate {\n",
              "        background-color: #E8F0FE;\n",
              "        border: none;\n",
              "        border-radius: 50%;\n",
              "        cursor: pointer;\n",
              "        display: none;\n",
              "        fill: #1967D2;\n",
              "        height: 32px;\n",
              "        padding: 0 0 0 0;\n",
              "        width: 32px;\n",
              "      }\n",
              "\n",
              "      .colab-df-generate:hover {\n",
              "        background-color: #E2EBFA;\n",
              "        box-shadow: 0px 1px 2px rgba(60, 64, 67, 0.3), 0px 1px 3px 1px rgba(60, 64, 67, 0.15);\n",
              "        fill: #174EA6;\n",
              "      }\n",
              "\n",
              "      [theme=dark] .colab-df-generate {\n",
              "        background-color: #3B4455;\n",
              "        fill: #D2E3FC;\n",
              "      }\n",
              "\n",
              "      [theme=dark] .colab-df-generate:hover {\n",
              "        background-color: #434B5C;\n",
              "        box-shadow: 0px 1px 3px 1px rgba(0, 0, 0, 0.15);\n",
              "        filter: drop-shadow(0px 1px 2px rgba(0, 0, 0, 0.3));\n",
              "        fill: #FFFFFF;\n",
              "      }\n",
              "    </style>\n",
              "    <button class=\"colab-df-generate\" onclick=\"generateWithVariable('dfreyes')\"\n",
              "            title=\"Generate code using this dataframe.\"\n",
              "            style=\"display:none;\">\n",
              "\n",
              "  <svg xmlns=\"http://www.w3.org/2000/svg\" height=\"24px\"viewBox=\"0 0 24 24\"\n",
              "       width=\"24px\">\n",
              "    <path d=\"M7,19H8.4L18.45,9,17,7.55,7,17.6ZM5,21V16.75L18.45,3.32a2,2,0,0,1,2.83,0l1.4,1.43a1.91,1.91,0,0,1,.58,1.4,1.91,1.91,0,0,1-.58,1.4L9.25,21ZM18.45,9,17,7.55Zm-12,3A5.31,5.31,0,0,0,4.9,8.1,5.31,5.31,0,0,0,1,6.5,5.31,5.31,0,0,0,4.9,4.9,5.31,5.31,0,0,0,6.5,1,5.31,5.31,0,0,0,8.1,4.9,5.31,5.31,0,0,0,12,6.5,5.46,5.46,0,0,0,6.5,12Z\"/>\n",
              "  </svg>\n",
              "    </button>\n",
              "    <script>\n",
              "      (() => {\n",
              "      const buttonEl =\n",
              "        document.querySelector('#id_0925077a-d36f-4979-86ff-d87db766ee28 button.colab-df-generate');\n",
              "      buttonEl.style.display =\n",
              "        google.colab.kernel.accessAllowed ? 'block' : 'none';\n",
              "\n",
              "      buttonEl.onclick = () => {\n",
              "        google.colab.notebook.generateWithVariable('dfreyes');\n",
              "      }\n",
              "      })();\n",
              "    </script>\n",
              "  </div>\n",
              "\n",
              "    </div>\n",
              "  </div>\n"
            ],
            "application/vnd.google.colaboratory.intrinsic+json": {
              "type": "dataframe",
              "variable_name": "dfreyes",
              "summary": "{\n  \"name\": \"dfreyes\",\n  \"rows\": 1070,\n  \"fields\": [\n    {\n      \"column\": \"index\",\n      \"properties\": {\n        \"dtype\": \"number\",\n        \"std\": 309,\n        \"min\": 0,\n        \"max\": 1069,\n        \"num_unique_values\": 1070,\n        \"samples\": [\n          644,\n          629,\n          70\n        ],\n        \"semantic_type\": \"\",\n        \"description\": \"\"\n      }\n    },\n    {\n      \"column\": \"Publishing Year\",\n      \"properties\": {\n        \"dtype\": \"number\",\n        \"std\": 185.08025721167814,\n        \"min\": -560.0,\n        \"max\": 2016.0,\n        \"num_unique_values\": 150,\n        \"samples\": [\n          1603.0,\n          2000.0,\n          1874.0\n        ],\n        \"semantic_type\": \"\",\n        \"description\": \"\"\n      }\n    },\n    {\n      \"column\": \"Book Name\",\n      \"properties\": {\n        \"dtype\": \"string\",\n        \"num_unique_values\": 1045,\n        \"samples\": [\n          \"Drowning Ruth\",\n          \"Howl's Moving Castle\",\n          \"The Birth of Venus\"\n        ],\n        \"semantic_type\": \"\",\n        \"description\": \"\"\n      }\n    },\n    {\n      \"column\": \"Author\",\n      \"properties\": {\n        \"dtype\": \"string\",\n        \"num_unique_values\": 735,\n        \"samples\": [\n          \"Christopher Hitchens\",\n          \"Vanessa Diffenbaugh\",\n          \"Astrid Lindgren, Lauren Child, Florence Lamborn, Nancy Seligsohn\"\n        ],\n        \"semantic_type\": \"\",\n        \"description\": \"\"\n      }\n    },\n    {\n      \"column\": \"language_code\",\n      \"properties\": {\n        \"dtype\": \"category\",\n        \"num_unique_values\": 8,\n        \"samples\": [\n          \"eng\",\n          \"en-CA\",\n          \"en-US\"\n        ],\n        \"semantic_type\": \"\",\n        \"description\": \"\"\n      }\n    },\n    {\n      \"column\": \"Author_Rating\",\n      \"properties\": {\n        \"dtype\": \"category\",\n        \"num_unique_values\": 4,\n        \"samples\": [\n          \"Intermediate\",\n          \"Excellent\",\n          \"Novice\"\n        ],\n        \"semantic_type\": \"\",\n        \"description\": \"\"\n      }\n    },\n    {\n      \"column\": \"Book_average_rating\",\n      \"properties\": {\n        \"dtype\": \"number\",\n        \"std\": 0.2472438720639047,\n        \"min\": 2.97,\n        \"max\": 4.77,\n        \"num_unique_values\": 134,\n        \"samples\": [\n          3.53,\n          3.73,\n          4.59\n        ],\n        \"semantic_type\": \"\",\n        \"description\": \"\"\n      }\n    },\n    {\n      \"column\": \"Book_ratings_count\",\n      \"properties\": {\n        \"dtype\": \"number\",\n        \"std\": 31513,\n        \"min\": 27308,\n        \"max\": 206792,\n        \"num_unique_values\": 1064,\n        \"samples\": [\n          144822,\n          75987,\n          119735\n        ],\n        \"semantic_type\": \"\",\n        \"description\": \"\"\n      }\n    },\n    {\n      \"column\": \"genre\",\n      \"properties\": {\n        \"dtype\": \"category\",\n        \"num_unique_values\": 4,\n        \"samples\": [\n          \"fiction\",\n          \"children\",\n          \"genre fiction\"\n        ],\n        \"semantic_type\": \"\",\n        \"description\": \"\"\n      }\n    },\n    {\n      \"column\": \"gross sales\",\n      \"properties\": {\n        \"dtype\": \"number\",\n        \"std\": 3936.9242404502693,\n        \"min\": 104.94,\n        \"max\": 47795.0,\n        \"num_unique_values\": 831,\n        \"samples\": [\n          486.78,\n          477.0,\n          891.02\n        ],\n        \"semantic_type\": \"\",\n        \"description\": \"\"\n      }\n    },\n    {\n      \"column\": \"publisher revenue\",\n      \"properties\": {\n        \"dtype\": \"number\",\n        \"std\": 2257.5967431564554,\n        \"min\": 0.0,\n        \"max\": 28677.0,\n        \"num_unique_values\": 610,\n        \"samples\": [\n          943.26,\n          141.966,\n          4131.534\n        ],\n        \"semantic_type\": \"\",\n        \"description\": \"\"\n      }\n    },\n    {\n      \"column\": \"sale price\",\n      \"properties\": {\n        \"dtype\": \"number\",\n        \"std\": 3.5599192628024627,\n        \"min\": 0.99,\n        \"max\": 33.86,\n        \"num_unique_values\": 149,\n        \"samples\": [\n          9.56,\n          11.39,\n          8.98\n        ],\n        \"semantic_type\": \"\",\n        \"description\": \"\"\n      }\n    },\n    {\n      \"column\": \"sales rank\",\n      \"properties\": {\n        \"dtype\": \"number\",\n        \"std\": 369,\n        \"min\": 1,\n        \"max\": 1273,\n        \"num_unique_values\": 865,\n        \"samples\": [\n          266,\n          1046,\n          915\n        ],\n        \"semantic_type\": \"\",\n        \"description\": \"\"\n      }\n    },\n    {\n      \"column\": \"Publisher \",\n      \"properties\": {\n        \"dtype\": \"category\",\n        \"num_unique_values\": 9,\n        \"samples\": [\n          \"HarperCollins Publishing\",\n          \"Amazon Digital Services,  Inc.\",\n          \"Simon and Schuster Digital Sales Inc\"\n        ],\n        \"semantic_type\": \"\",\n        \"description\": \"\"\n      }\n    },\n    {\n      \"column\": \"units sold\",\n      \"properties\": {\n        \"dtype\": \"number\",\n        \"std\": 15370,\n        \"min\": 106,\n        \"max\": 61560,\n        \"num_unique_values\": 491,\n        \"samples\": [\n          33696,\n          975,\n          37584\n        ],\n        \"semantic_type\": \"\",\n        \"description\": \"\"\n      }\n    }\n  ]\n}"
            }
          },
          "metadata": {},
          "execution_count": 4
        }
      ]
    },
    {
      "cell_type": "markdown",
      "source": [
        "De acuerdo a la siguienta tabla, no hay valores perdidos en las variables que nos interesan."
      ],
      "metadata": {
        "id": "GqSObUXpTSYO"
      }
    },
    {
      "cell_type": "code",
      "source": [
        "dfreyes.isna().sum()"
      ],
      "metadata": {
        "colab": {
          "base_uri": "https://localhost:8080/"
        },
        "id": "ReqrogPsNukh",
        "outputId": "4b37324a-d436-4232-ae7e-27c716511683"
      },
      "execution_count": 5,
      "outputs": [
        {
          "output_type": "execute_result",
          "data": {
            "text/plain": [
              "index                   0\n",
              "Publishing Year         1\n",
              "Book Name              23\n",
              "Author                  0\n",
              "language_code          53\n",
              "Author_Rating           0\n",
              "Book_average_rating     0\n",
              "Book_ratings_count      0\n",
              "genre                   0\n",
              "gross sales             0\n",
              "publisher revenue       0\n",
              "sale price              0\n",
              "sales rank              0\n",
              "Publisher               0\n",
              "units sold              0\n",
              "dtype: int64"
            ]
          },
          "metadata": {},
          "execution_count": 5
        }
      ]
    },
    {
      "cell_type": "markdown",
      "source": [
        "## 3) Análisis y visualizaciones"
      ],
      "metadata": {
        "id": "pxkTBj94SpPk"
      }
    },
    {
      "cell_type": "markdown",
      "source": [
        "### 3.1) Análisis univariado. Descripción de las variables involucradas"
      ],
      "metadata": {
        "id": "DQGCzsmLTyQi"
      }
    },
    {
      "cell_type": "markdown",
      "source": [
        "En este apartado se describen sintéticamente las cuatro variables involucradas en el estudio.\n",
        "\n",
        "En el caso de \"units sold\" y \"Book_average_rating\", las variables dependientes, se trata de variables cuantitativas continuas; mientras que \"Autor_Rating\" y \"genre\" son cualitativas o cagóricas: una ordinal y otra nominal.\n",
        "\n",
        "Comencemos la descripción con \"Book_average_rating\"."
      ],
      "metadata": {
        "id": "cO91WM__N6wd"
      }
    },
    {
      "cell_type": "code",
      "source": [
        "print(\"Descripción de 'Book_average_rating':\", dfreyes[\"Book_average_rating\"].describe(), \"\\n\")\n",
        "\n",
        "plt.hist(dfreyes['Book_average_rating'], bins=10)\n",
        "plt.title('Histograma de Book_average_rating')\n",
        "plt.xlabel('Book_average_rating')\n",
        "plt.ylabel('Frecuencia')"
      ],
      "metadata": {
        "colab": {
          "base_uri": "https://localhost:8080/",
          "height": 668
        },
        "id": "MwVJqbCe6lJr",
        "outputId": "e558bc33-8590-4d88-9997-ce93979b1d9d"
      },
      "execution_count": 6,
      "outputs": [
        {
          "output_type": "stream",
          "name": "stdout",
          "text": [
            "Descripción de 'Book_average_rating': count    1070.000000\n",
            "mean        4.007000\n",
            "std         0.247244\n",
            "min         2.970000\n",
            "25%         3.850000\n",
            "50%         4.015000\n",
            "75%         4.170000\n",
            "max         4.770000\n",
            "Name: Book_average_rating, dtype: float64 \n",
            "\n"
          ]
        },
        {
          "output_type": "execute_result",
          "data": {
            "text/plain": [
              "Text(0, 0.5, 'Frecuencia')"
            ]
          },
          "metadata": {},
          "execution_count": 6
        },
        {
          "output_type": "display_data",
          "data": {
            "text/plain": [
              "<Figure size 640x480 with 1 Axes>"
            ],
            "image/png": "[encoded data removed]"
          },
          "metadata": {}
        }
      ]
    },
    {
      "cell_type": "markdown",
      "source": [
        "El histograma de Book_average_rating da cuenta de una distribución aproximadamente normal, coincidiendo su media y su mediana en el entorno al 4.01. No hay valores inferiores al 2.97, y ningún libro supera el 4.77, su valor máximo. El comportamiento de la variable es muy diferente al de \"units sold\", que se presenta a continuación.\n"
      ],
      "metadata": {
        "id": "iTr2DGfTPLXR"
      }
    },
    {
      "cell_type": "code",
      "source": [
        "print(\"Descripción de 'units sold':\", dfreyes['units sold'].describe(), \"\\n\")\n",
        "\n",
        "plt.hist(dfreyes['units sold'], bins=10)\n",
        "plt.title('Histograma de units sold')\n",
        "plt.xlabel('units sold')\n",
        "plt.ylabel('Frecuencia')"
      ],
      "metadata": {
        "colab": {
          "base_uri": "https://localhost:8080/",
          "height": 668
        },
        "id": "RjEyb2NV6ft4",
        "outputId": "5279c6bb-bfd6-4bcb-d214-a7444933f46b"
      },
      "execution_count": 7,
      "outputs": [
        {
          "output_type": "stream",
          "name": "stdout",
          "text": [
            "Descripción de 'units sold': count     1070.000000\n",
            "mean      9676.980374\n",
            "std      15370.571306\n",
            "min        106.000000\n",
            "25%        551.250000\n",
            "50%       3924.000000\n",
            "75%       5312.250000\n",
            "max      61560.000000\n",
            "Name: units sold, dtype: float64 \n",
            "\n"
          ]
        },
        {
          "output_type": "execute_result",
          "data": {
            "text/plain": [
              "Text(0, 0.5, 'Frecuencia')"
            ]
          },
          "metadata": {},
          "execution_count": 7
        },
        {
          "output_type": "display_data",
          "data": {
            "text/plain": [
              "<Figure size 640x480 with 1 Axes>"
            ],
            "image/png": "[encoded data removed]"
          },
          "metadata": {}
        }
      ]
    },
    {
      "cell_type": "markdown",
      "source": [
        "En este caso, la distribución no es normal, habiendo una fuerte concentración de casos en la primera columna y muy pocos en las restantes. Esto se refleja en una media casi cuatro veces mayor que la mediana. El 75% de los libros venden menos que 5312 unidades, mientras que la media, sensible a valores extremos,  es de 9676 unidades. La mayoría de los valores se encuentran distantes del promedio, con un desvío estandard de 15371 unidades. El máximo es de 61560 unidades."
      ],
      "metadata": {
        "id": "ZTcLzW1SQg3I"
      }
    },
    {
      "cell_type": "markdown",
      "source": [
        "Las dos siguientes variables categóricas muestran diferencias importantes en la frecuencia de cada categoría. En el caso de \"Author_Rating\", la gran mayoría de casos se concentra en la categoría \"Intermediate\", habiendo muy pocos en las categorías \"Novice\" y \"Famous\". Esto supone una dificultad para nuestro análisis, al igual que el comportamiento de la variable \"genre\": hay más de 800 libros de ficción y menos de 200 libros infantiles y de no-ficción.\n"
      ],
      "metadata": {
        "id": "ySgdJtZaSy5y"
      }
    },
    {
      "cell_type": "code",
      "source": [
        "print(\"Descripción de 'Author_Rating':\", dfreyes[\"Author_Rating\"].describe(), \"\\n\")\n",
        "print (\"Categorías y frecuencias:\",dfreyes['Author_Rating'].value_counts())\n",
        "\n",
        "plt.hist(dfreyes['Author_Rating'], bins=10)\n",
        "plt.title('Histograma de Author_Rating')\n",
        "plt.xlabel('Author_Rating')\n",
        "plt.ylabel('Frecuencia')"
      ],
      "metadata": {
        "colab": {
          "base_uri": "https://localhost:8080/",
          "height": 686
        },
        "id": "k-BPRjXO7TYg",
        "outputId": "ab1f0c24-a0e9-49f3-8e60-01a0e0f8d259"
      },
      "execution_count": 8,
      "outputs": [
        {
          "output_type": "stream",
          "name": "stdout",
          "text": [
            "Descripción de 'Author_Rating': count             1070\n",
            "unique               4\n",
            "top       Intermediate\n",
            "freq               625\n",
            "Name: Author_Rating, dtype: object \n",
            "\n",
            "Categorías y frecuencias: Intermediate    625\n",
            "Excellent       362\n",
            "Famous           53\n",
            "Novice           30\n",
            "Name: Author_Rating, dtype: int64\n"
          ]
        },
        {
          "output_type": "execute_result",
          "data": {
            "text/plain": [
              "Text(0, 0.5, 'Frecuencia')"
            ]
          },
          "metadata": {},
          "execution_count": 8
        },
        {
          "output_type": "display_data",
          "data": {
            "text/plain": [
              "<Figure size 640x480 with 1 Axes>"
            ],
            "image/png": "[encoded data removed]"
          },
          "metadata": {}
        }
      ]
    },
    {
      "cell_type": "markdown",
      "source": [],
      "metadata": {
        "id": "UWbwkw3AVyRF"
      }
    },
    {
      "cell_type": "code",
      "source": [
        "print(\"Descripción de 'genre':\", dfreyes[\"genre\"].describe(), \"\\n\")\n",
        "print (\"Categorías y frecuencias:\",dfreyes['genre'].value_counts())\n",
        "\n",
        "plt.hist(dfreyes['genre'], bins=10)\n",
        "plt.title('Histograma de genre')\n",
        "plt.xlabel('genre')\n",
        "plt.ylabel('Frecuencia')"
      ],
      "metadata": {
        "colab": {
          "base_uri": "https://localhost:8080/",
          "height": 686
        },
        "id": "x1fAtO4r5tDa",
        "outputId": "b492ef83-7c5e-42d4-9473-a0e85b3e13af"
      },
      "execution_count": 9,
      "outputs": [
        {
          "output_type": "stream",
          "name": "stdout",
          "text": [
            "Descripción de 'genre': count              1070\n",
            "unique                4\n",
            "top       genre fiction\n",
            "freq                822\n",
            "Name: genre, dtype: object \n",
            "\n",
            "Categorías y frecuencias: genre fiction    822\n",
            "nonfiction       171\n",
            "fiction           62\n",
            "children          15\n",
            "Name: genre, dtype: int64\n"
          ]
        },
        {
          "output_type": "execute_result",
          "data": {
            "text/plain": [
              "Text(0, 0.5, 'Frecuencia')"
            ]
          },
          "metadata": {},
          "execution_count": 9
        },
        {
          "output_type": "display_data",
          "data": {
            "text/plain": [
              "<Figure size 640x480 with 1 Axes>"
            ],
            "image/png": "[encoded data removed]"
          },
          "metadata": {}
        }
      ]
    },
    {
      "cell_type": "markdown",
      "source": [
        "En el caso de esta variable, encontramos que dos categorías refieren a lo mismo (\"genre fiction\" y \"fiction\"), por lo que procedemos a unificarlas en una misma categoría mediante el siguiente código:"
      ],
      "metadata": {
        "id": "V20TwWIMP_ik"
      }
    },
    {
      "cell_type": "code",
      "source": [
        "dfreyes['genre'] = dfreyes['genre'].replace('genre fiction', 'fiction')"
      ],
      "metadata": {
        "id": "Zgjrb_he594N"
      },
      "execution_count": 10,
      "outputs": []
    },
    {
      "cell_type": "code",
      "source": [
        "plt.hist(dfreyes['genre'], bins=10)\n",
        "plt.title('Histograma de genre')\n",
        "plt.xlabel('genre')\n",
        "plt.ylabel('Frecuencia')"
      ],
      "metadata": {
        "colab": {
          "base_uri": "https://localhost:8080/",
          "height": 490
        },
        "id": "T_jB7mjGWSmx",
        "outputId": "4f605007-58d8-419a-e76b-76976b57bfff"
      },
      "execution_count": 11,
      "outputs": [
        {
          "output_type": "execute_result",
          "data": {
            "text/plain": [
              "Text(0, 0.5, 'Frecuencia')"
            ]
          },
          "metadata": {},
          "execution_count": 11
        },
        {
          "output_type": "display_data",
          "data": {
            "text/plain": [
              "<Figure size 640x480 with 1 Axes>"
            ],
            "image/png": "[encoded data removed]"
          },
          "metadata": {}
        }
      ]
    },
    {
      "cell_type": "markdown",
      "source": [
        "### 3.2) Análisis bivariado para explicar la variable \"Book_average_rating\"\n",
        "\n"
      ],
      "metadata": {
        "id": "QxcDIT7n8Bzd"
      }
    },
    {
      "cell_type": "markdown",
      "source": [
        "Comenzamos este apartado visualizando las diferencias en la variable \"Book_average_rating\" a partir del género y el prestigio del autor, mediante gráficos de caja. Podemos ver que no se visualizan diferencias importantes en el primer caso, aunque sí una mayor centralidad en los valores de los ratings en el caso de los libros infantiles, y una mayor dispersión de la variable en las otras dos categorías, que además presentan varios valores atípicos."
      ],
      "metadata": {
        "id": "C5ojOnXbUooF"
      }
    },
    {
      "cell_type": "code",
      "source": [
        "sns.set_style(\"darkgrid\")\n",
        "sns.boxplot(data=dfreyes, x=\"Book_average_rating\", y=\"genre\")"
      ],
      "metadata": {
        "colab": {
          "base_uri": "https://localhost:8080/",
          "height": 468
        },
        "id": "D0deeEB-cxIn",
        "outputId": "2b5e8601-c2d7-4cc7-9eaa-adb9790b97c2"
      },
      "execution_count": 12,
      "outputs": [
        {
          "output_type": "execute_result",
          "data": {
            "text/plain": [
              "<Axes: xlabel='Book_average_rating', ylabel='genre'>"
            ]
          },
          "metadata": {},
          "execution_count": 12
        },
        {
          "output_type": "display_data",
          "data": {
            "text/plain": [
              "<Figure size 640x480 with 1 Axes>"
            ],
            "image/png": "[encoded data removed]"
          },
          "metadata": {}
        }
      ]
    },
    {
      "cell_type": "markdown",
      "source": [
        "Al analizar el comportamiento de la misma variable dependiente a partir del prestigio del autor, sí se visualizan diferencias relevantes para nuestro trabajo."
      ],
      "metadata": {
        "id": "ByYmKP5EVZDo"
      }
    },
    {
      "cell_type": "code",
      "source": [
        "sns.boxplot(data=dfreyes, x=\"Book_average_rating\", y=\"Author_Rating\")"
      ],
      "metadata": {
        "colab": {
          "base_uri": "https://localhost:8080/",
          "height": 468
        },
        "id": "Ha_5qJMT8acX",
        "outputId": "45a05e9d-ebd4-4fcd-99a0-6cda40e12650"
      },
      "execution_count": 13,
      "outputs": [
        {
          "output_type": "execute_result",
          "data": {
            "text/plain": [
              "<Axes: xlabel='Book_average_rating', ylabel='Author_Rating'>"
            ]
          },
          "metadata": {},
          "execution_count": 13
        },
        {
          "output_type": "display_data",
          "data": {
            "text/plain": [
              "<Figure size 640x480 with 1 Axes>"
            ],
            "image/png": "[encoded data removed]"
          },
          "metadata": {}
        }
      ]
    },
    {
      "cell_type": "markdown",
      "source": [
        "En este caso, se percibe que los libros de autores famosos tienen mejores ratings promedios que las otras categorías, y son particularmente bajos los de los principiantes. Para poner a prueba este análisis tentativo, someteremos a la prueba t de Student la diferencia de medias entre los grupos de libros.\n",
        "\n"
      ],
      "metadata": {
        "id": "a-Wp3c1kVjuH"
      }
    },
    {
      "cell_type": "code",
      "source": [
        "from scipy import stats\n",
        "\n",
        "novice = dfreyes.loc[dfreyes['Author_Rating'] == 'Novice', 'Book_average_rating']\n",
        "intermediate = dfreyes.loc[dfreyes['Author_Rating'] == 'Intermediate', 'Book_average_rating']\n",
        "famous = dfreyes.loc[dfreyes['Author_Rating'] == 'Famous', 'Book_average_rating']\n",
        "excellent = dfreyes.loc[dfreyes['Author_Rating'] == 'Excellent', 'Book_average_rating']\n",
        "\n",
        "statistic, pvalue = stats.ttest_ind(famous,excellent, equal_var=False)\n",
        "print('Prueba t entre Famous y Excellent: ',round(statistic,2),'p-valor:', round(pvalue,2))\n",
        "\n",
        "statistic, pvalue = stats.ttest_ind(excellent,intermediate, equal_var=False)\n",
        "print('Prueba t entre Excellent e Intermediate: ',round(statistic,2),'p-valor:', round(pvalue,2))\n",
        "\n",
        "statistic, pvalue = stats.ttest_ind(intermediate,novice, equal_var=False)\n",
        "print('Prueba t entre Intermediate y Novice: ',round(statistic,2),'p-valor:', round(pvalue,2))\n",
        "\n",
        "statistic, pvalue = stats.ttest_ind(excellent,novice, equal_var=False)\n",
        "print('Prueba t entre Excellent y Novice: ',round(statistic,2),'p-valor:', round(pvalue,2))\n",
        "\n",
        "statistic, pvalue = stats.ttest_ind(famous,novice, equal_var=False)\n",
        "print('Prueba t entre Famous y Novice: ',round(statistic,2),'p-valor:', round(pvalue,2))\n",
        "\n",
        "statistic, pvalue = stats.ttest_ind(famous,intermediate, equal_var=False)\n",
        "print('Prueba t entre Famous e Intemediate: ',round(statistic,2),'p-valor:', round(pvalue,2))"
      ],
      "metadata": {
        "colab": {
          "base_uri": "https://localhost:8080/"
        },
        "id": "I_MqNcZCXZI8",
        "outputId": "847b73b8-c5cc-4e89-da5e-e74877a28a46"
      },
      "execution_count": 14,
      "outputs": [
        {
          "output_type": "stream",
          "name": "stdout",
          "text": [
            "Prueba t entre Famous y Excellent:  9.31 p-valor: 0.0\n",
            "Prueba t entre Excellent e Intermediate:  28.3 p-valor: 0.0\n",
            "Prueba t entre Intermediate y Novice:  26.72 p-valor: 0.0\n",
            "Prueba t entre Excellent y Novice:  40.95 p-valor: 0.0\n",
            "Prueba t entre Famous y Novice:  31.12 p-valor: 0.0\n",
            "Prueba t entre Famous e Intemediate:  17.83 p-valor: 0.0\n"
          ]
        }
      ]
    },
    {
      "cell_type": "markdown",
      "source": [
        "El p-valor en 0.0 nos indica la improbabilidad de la hipótesis nula y nos confirma la significatividad de las diferencias observadas en la variable Book_average_rating a partir de las distintas categorías de \"Author_Rating\"."
      ],
      "metadata": {
        "id": "2Kv1QPFwd6W3"
      }
    },
    {
      "cell_type": "markdown",
      "source": [
        "### 3.3) Análisis bivariado para explicar la variable \"units sold\""
      ],
      "metadata": {
        "id": "WtPQpv6OVoH6"
      }
    },
    {
      "cell_type": "markdown",
      "source": [
        "En este apartado replicaremos la exploración pero respecto a la otra variable dependiente: units sold, a partir de los mismos predictores (genre y Author_rating)."
      ],
      "metadata": {
        "id": "IajhNAJ0gf7P"
      }
    },
    {
      "cell_type": "code",
      "source": [
        "sns.boxplot(data=dfreyes, x=\"units sold\", y=\"genre\")"
      ],
      "metadata": {
        "colab": {
          "base_uri": "https://localhost:8080/",
          "height": 0
        },
        "id": "mYS8KQrz9Qau",
        "outputId": "d6c8edf5-ae6c-418b-bc63-c208fb46a13a"
      },
      "execution_count": 15,
      "outputs": [
        {
          "output_type": "execute_result",
          "data": {
            "text/plain": [
              "<Axes: xlabel='units sold', ylabel='genre'>"
            ]
          },
          "metadata": {},
          "execution_count": 15
        },
        {
          "output_type": "display_data",
          "data": {
            "text/plain": [
              "<Figure size 640x480 with 1 Axes>"
            ],
            "image/png": "[encoded data removed]"
          },
          "metadata": {}
        }
      ]
    },
    {
      "cell_type": "markdown",
      "source": [
        "En este caso, no se aprecian diferencias entre ficción y no-ficción, más allá de la mayor cantidad de outliers en el primer caso (probablemente asociado a la mayor frecuencia de la categoría). La caja de \"children\" tiene una zona compartida con las otras dos, aunque es notoriamente mayor su rango intercuartil, con una gran cantidad de casos en el tercer cuartil. De todas formas, su mediana no está muy alejada de la de las otras cajas. La diferente distribución puede vincularse con la baja frecuencia de la categoría: solo hay 15 casos, frente a 171 de nonfiction y 884 de fiction.\n",
        "\n",
        "La visualización nos sugiere que no hay diferencias importantes entre los tres grupos, y lo confirmamos mediante tres pruebas t de Student."
      ],
      "metadata": {
        "id": "_roMAfIPg12l"
      }
    },
    {
      "cell_type": "code",
      "source": [
        "fiction = dfreyes.loc[dfreyes['genre'] == 'fiction', 'Book_average_rating']\n",
        "nonfiction = dfreyes.loc[dfreyes['genre'] == 'nonfiction', 'Book_average_rating']\n",
        "children= dfreyes.loc[dfreyes['genre'] == 'children', 'Book_average_rating']\n",
        "\n",
        "statistic, pvalue = stats.ttest_ind(fiction,nonfiction, equal_var=False)\n",
        "print('Prueba t entre fiction y nonfiction: ',round(statistic,2),'p-valor:', round(pvalue,2))\n",
        "\n",
        "statistic, pvalue = stats.ttest_ind(fiction,children, equal_var=False)\n",
        "print('Prueba t entre fiction y children: ',round(statistic,2),'p-valor:', round(pvalue,2))\n",
        "\n",
        "statistic, pvalue = stats.ttest_ind(nonfiction,children, equal_var=False)\n",
        "print('Prueba t entre nonfiction y children: ',round(statistic,2),'p-valor:', round(pvalue,2))\n"
      ],
      "metadata": {
        "colab": {
          "base_uri": "https://localhost:8080/"
        },
        "id": "Gm9l_8qhj3i7",
        "outputId": "2e1f1ccd-f681-4476-e025-6f4968a02018"
      },
      "execution_count": 16,
      "outputs": [
        {
          "output_type": "stream",
          "name": "stdout",
          "text": [
            "Prueba t entre fiction y nonfiction:  -0.87 p-valor: 0.39\n",
            "Prueba t entre fiction y children:  -0.59 p-valor: 0.57\n",
            "Prueba t entre nonfiction y children:  -0.2 p-valor: 0.85\n"
          ]
        }
      ]
    },
    {
      "cell_type": "markdown",
      "source": [
        "En los tres casos, el estadístico fue cercano a 0 y el valor p muy alto, por lo que no podemos rechazar la hipótesis nula."
      ],
      "metadata": {
        "id": "HBPTFhkTleJ2"
      }
    },
    {
      "cell_type": "markdown",
      "source": [
        "Por último, consideramos el efecto de la variable \"Author_Rating\" en la cantidad de unidades vendidas. La visualización permite considerar la hipótesis de que el pretigio de excelencia impulsa la venta de libros; mientras que no parecen vender menos los novatos o intermedios respecto de los famosos."
      ],
      "metadata": {
        "id": "gVzyHniemT6t"
      }
    },
    {
      "cell_type": "code",
      "source": [
        "sns.boxplot(data=dfreyes, x=\"units sold\", y=\"Author_Rating\")"
      ],
      "metadata": {
        "colab": {
          "base_uri": "https://localhost:8080/",
          "height": 0
        },
        "id": "nJT6meoe9YnP",
        "outputId": "1a11fef1-74d5-4cb6-9164-04c70b593225"
      },
      "execution_count": 17,
      "outputs": [
        {
          "output_type": "execute_result",
          "data": {
            "text/plain": [
              "<Axes: xlabel='units sold', ylabel='Author_Rating'>"
            ]
          },
          "metadata": {},
          "execution_count": 17
        },
        {
          "output_type": "display_data",
          "data": {
            "text/plain": [
              "<Figure size 640x480 with 1 Axes>"
            ],
            "image/png": "[encoded data removed]"
          },
          "metadata": {}
        }
      ]
    },
    {
      "cell_type": "markdown",
      "source": [
        "Para confirmar la hipótesis, testeamos la diferencia de media entre los grupos."
      ],
      "metadata": {
        "id": "3aPsyU7YoggR"
      }
    },
    {
      "cell_type": "code",
      "source": [
        "novice = dfreyes.loc[dfreyes['Author_Rating'] == 'Novice', 'units sold']\n",
        "intermediate = dfreyes.loc[dfreyes['Author_Rating'] == 'Intermediate', 'units sold']\n",
        "famous = dfreyes.loc[dfreyes['Author_Rating'] == 'Famous', 'units sold']\n",
        "excellent = dfreyes.loc[dfreyes['Author_Rating'] == 'Excellent', 'units sold']\n",
        "\n",
        "statistic, pvalue = stats.ttest_ind(famous,excellent, equal_var=False)\n",
        "print('Prueba t entre Famous y Excellent: ',round(statistic,2),'p-valor:', round(pvalue,2))\n",
        "\n",
        "statistic, pvalue = stats.ttest_ind(excellent,intermediate, equal_var=False)\n",
        "print('Prueba t entre Excellent e Intermediate: ',round(statistic,2),'p-valor:', round(pvalue,2))\n",
        "\n",
        "statistic, pvalue = stats.ttest_ind(excellent,famous, equal_var=False)\n",
        "print('Prueba t entre Excellent e Famous: ',round(statistic,2),'p-valor:', round(pvalue,2))\n",
        "\n",
        "statistic, pvalue = stats.ttest_ind(intermediate,novice, equal_var=False)\n",
        "print('Prueba t entre Intermediate y Novice: ',round(statistic,2),'p-valor:', round(pvalue,2))\n",
        "\n",
        "statistic, pvalue = stats.ttest_ind(famous,novice, equal_var=False)\n",
        "print('Prueba t entre Famous y Novice: ',round(statistic,2),'p-valor:', round(pvalue,2))\n",
        "\n",
        "statistic, pvalue = stats.ttest_ind(famous,intermediate, equal_var=False)\n",
        "print('Prueba t entre Famous e Intemediate: ',round(statistic,2),'p-valor:', round(pvalue,2))"
      ],
      "metadata": {
        "colab": {
          "base_uri": "https://localhost:8080/"
        },
        "id": "jlZ6IGj3nZAG",
        "outputId": "1e1eab53-75ad-47bc-e9e9-c1d9d9b9fc84"
      },
      "execution_count": 18,
      "outputs": [
        {
          "output_type": "stream",
          "name": "stdout",
          "text": [
            "Prueba t entre Famous y Excellent:  -3.76 p-valor: 0.0\n",
            "Prueba t entre Excellent e Intermediate:  5.06 p-valor: 0.0\n",
            "Prueba t entre Excellent e Famous:  3.76 p-valor: 0.0\n",
            "Prueba t entre Intermediate y Novice:  0.33 p-valor: 0.74\n",
            "Prueba t entre Famous y Novice:  -0.17 p-valor: 0.87\n",
            "Prueba t entre Famous e Intemediate:  -0.81 p-valor: 0.42\n"
          ]
        }
      ]
    },
    {
      "cell_type": "markdown",
      "source": [
        "A partir de las Pruebas t, confirmamos que solo son significativas las diferencias de medias que mantiene el grupo \"Excellent\" con todos los demás, y no lo son las que mantienen estos otros grupos entre sí."
      ],
      "metadata": {
        "id": "mDiZjLEGocc0"
      }
    },
    {
      "cell_type": "markdown",
      "source": [
        "### 3.4) Análisis multivariado"
      ],
      "metadata": {
        "id": "MXr1kPyQT33V"
      }
    },
    {
      "cell_type": "markdown",
      "source": [
        "En este último apartado de análisis y visualización, se presenta la visualización, trivariada, de la distribución de cada variable dependiente en función de las dos variables explicativas."
      ],
      "metadata": {
        "id": "FlPNfWxbbmDo"
      }
    },
    {
      "cell_type": "code",
      "source": [
        "sns.barplot(data=dfreyes, x='Author_Rating', y='units sold', hue='genre', ci=None)"
      ],
      "metadata": {
        "colab": {
          "base_uri": "https://localhost:8080/",
          "height": 0
        },
        "id": "tBFs5rr5rqpY",
        "outputId": "e4740b10-a534-4401-b9b4-1d8d4d5d95ec"
      },
      "execution_count": 19,
      "outputs": [
        {
          "output_type": "stream",
          "name": "stderr",
          "text": [
            "<ipython-input-19-8c76d0c41172>:1: FutureWarning: \n",
            "\n",
            "The `ci` parameter is deprecated. Use `errorbar=None` for the same effect.\n",
            "\n",
            "  sns.barplot(data=dfreyes, x='Author_Rating', y='units sold', hue='genre', ci=None)\n"
          ]
        },
        {
          "output_type": "execute_result",
          "data": {
            "text/plain": [
              "<Axes: xlabel='Author_Rating', ylabel='units sold'>"
            ]
          },
          "metadata": {},
          "execution_count": 19
        },
        {
          "output_type": "display_data",
          "data": {
            "text/plain": [
              "<Figure size 640x480 with 1 Axes>"
            ],
            "image/png": "[encoded data removed]"
          },
          "metadata": {}
        }
      ]
    },
    {
      "cell_type": "markdown",
      "source": [
        "Aquí se visualiza el efecto del prestigio excelente en la cantidad de ventas; la media de esta categoría es sensiblemente mayor que las otras en los tres géneros, si bien parte de esta diferencia se debe a los libros infantiles. La diferencia de este grupo con los otros no fue significativa en nuestro test, probablemente por la pequeña magnitud de la submuestra."
      ],
      "metadata": {
        "id": "5csx1y9ktDGl"
      }
    },
    {
      "cell_type": "code",
      "source": [
        "sns.barplot(data=dfreyes, x='Author_Rating', y='Book_average_rating', hue='genre', ci=None)"
      ],
      "metadata": {
        "colab": {
          "base_uri": "https://localhost:8080/",
          "height": 0
        },
        "id": "SDe-DeIl_fcZ",
        "outputId": "3d6a3b84-e5ef-48ac-9c23-ebf7bb7052ec"
      },
      "execution_count": 20,
      "outputs": [
        {
          "output_type": "stream",
          "name": "stderr",
          "text": [
            "<ipython-input-20-0fe12fc84b1c>:1: FutureWarning: \n",
            "\n",
            "The `ci` parameter is deprecated. Use `errorbar=None` for the same effect.\n",
            "\n",
            "  sns.barplot(data=dfreyes, x='Author_Rating', y='Book_average_rating', hue='genre', ci=None)\n"
          ]
        },
        {
          "output_type": "execute_result",
          "data": {
            "text/plain": [
              "<Axes: xlabel='Author_Rating', ylabel='Book_average_rating'>"
            ]
          },
          "metadata": {},
          "execution_count": 20
        },
        {
          "output_type": "display_data",
          "data": {
            "text/plain": [
              "<Figure size 640x480 with 1 Axes>"
            ],
            "image/png": "[encoded data removed]"
          },
          "metadata": {}
        }
      ]
    },
    {
      "cell_type": "markdown",
      "source": [
        "Respecto al rating promedio de los libros, puede verse la elevación de la media en el caso de los autores famosos para los géneros ficción y no ficción, que se había comentado anteriormente. Si bien el promedio es menor en el caso de los principiantes, la diferencia con los otros grupos no fue significativa según la prueba t. Para ninguno de los cuatro grupos son visiblimente diferentes las medias de acuerdo al género de los libros.\n",
        "\n"
      ],
      "metadata": {
        "id": "QFQ9gCOCtjVl"
      }
    },
    {
      "cell_type": "markdown",
      "source": [
        "## 4) Síntesis con pricipales insights"
      ],
      "metadata": {
        "id": "WfGIeKmtxET8"
      }
    },
    {
      "cell_type": "markdown",
      "source": [
        "Como cierre de este trabajo, se sintetizan los principales insights arrojados por el análisis precedente.\n",
        "\n",
        "En primer lugar, se observó que **la categoría \"excelente\" en el prestigio del autor de un libro sí tiene un impacto positivo en el número de unidades vendidas**. Como podía asumirse, los lectores están más inclinados a comprar obras de autores con un prestigio destacado. Sin embargo, no se detectaron diferencias significativas entre los otros tres grupos (principiantes, intermedios y famosos).\n",
        "\n",
        "Por otro lado, **el género del libro no parece influir en la cantidad de unidades vendidas**. Al menos en el marco de esta muestra, los datos no indican que los consumidores basen sus decisiones en el género literario.\n",
        "\n",
        "**Respecto de la calidad literaria de los libros**, considerada a través del rating medio, se observa nuevamente que **sí impacta el prestigio del autor y no el género**. Sin embargo, en este caso **el rating medio es mayor en la categoría \"famoso\"** que en las demás, incluso que la categoría \"excelente\". Si bien esto puede ser objeto de próximas indagaciones, puede hipotetizarse que en el caso de los autores excelentes las expectativas pueden ser mayores, y que esto hace disminuir el rating de sus obras.\n",
        "\n",
        "Finalmente, resta recomendar que, para futuros análisis, sería beneficioso trabajar con una muestra más amplia. En particular, sería útil contar con una mayor muestra de libros de los géneros infantil y no-ficción, así como de libros con autores famosos y principiantes. Estas mejoras permitirían obtener resultados más robustos y representativos del mercado editorial."
      ],
      "metadata": {
        "id": "VRbY_vSrqWNC"
      }
    }
  ]
}